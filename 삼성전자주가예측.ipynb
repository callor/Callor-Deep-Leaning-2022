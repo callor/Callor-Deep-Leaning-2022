{
  "nbformat": 4,
  "nbformat_minor": 0,
  "metadata": {
    "colab": {
      "provenance": [],
      "mount_file_id": "1xQQu6bh-WSbgpEL0A0dgMA8mIX-5CE0l",
      "authorship_tag": "ABX9TyNEcVJj5MKya9JGizEa4+vo",
      "include_colab_link": true
    },
    "kernelspec": {
      "name": "python3",
      "display_name": "Python 3"
    },
    "language_info": {
      "name": "python"
    }
  },
  "cells": [
    {
      "cell_type": "markdown",
      "metadata": {
        "id": "view-in-github",
        "colab_type": "text"
      },
      "source": [
        "<a href=\"https://colab.research.google.com/github/callor/Callor-DeepLearning-2022/blob/master/%EC%82%BC%EC%84%B1%EC%A0%84%EC%9E%90%EC%A3%BC%EA%B0%80%EC%98%88%EC%B8%A1.ipynb\" target=\"_parent\"><img src=\"https://colab.research.google.com/assets/colab-badge.svg\" alt=\"Open In Colab\"/></a>"
      ]
    },
    {
      "cell_type": "markdown",
      "source": [
        "## 삼성전자 주가 예측 \n",
        "\n",
        "* 데이터출처 : https://finance.yahoo.com/quote/005930.KS/history?period1=1641009600&period2=1671076799&interval=1d&frequency=1d&filter=history"
      ],
      "metadata": {
        "id": "e0CirICieG1B"
      }
    },
    {
      "cell_type": "markdown",
      "source": [
        "* 주가를 인공지능으로 예측한다는 것은 현실적으로 불가능에 가깝다라는 어느 경제 학자의 오래된 이야기가 생각난다. \n",
        "* 하지만, 데이터를 이용한 딥러닝 학습에 이만한 예제가 있을까 생각된다.\n",
        "* 삼성전자의 2012년 1월 부터 2012년 12월 14일까지의 데이터를 `야후 파이넨셜` 에서 다운로드 받아 `LSTM` 알고리즘을 통한 주가 예측 딥러닝 모델링을 작성한다\n",
        "* `파이토치(Pytorch)`를 사용한 LSTM 관련 문서를 참조하여 작성하였다.  \n",
        "참조한 원본 프로젝트 출처 : https://cnvrg.io/pytorch-lstm/?gclid=Cj0KCQiA6t6ABhDMARIsAONIYyxsIXn6G6EcMLhGnPDxnsKiv3zLU49TRMxsyTPXZmOV3E-Hh4xeI2EaAugLEALw_wcB"
      ],
      "metadata": {
        "id": "xa0dtuKifzmV"
      }
    },
    {
      "cell_type": "code",
      "source": [
        "# 코랩 matplotlib 에서 한글을 사용하기 위한 폰트 설치치\n",
        "!sudo apt-get install -y fonts-nanum\n",
        "!sudo fc-cache -fv\n",
        "!rm ~/.cache/matplotlib -rf"
      ],
      "metadata": {
        "colab": {
          "base_uri": "https://localhost:8080/"
        },
        "id": "9L94T6ftOYDY",
        "outputId": "bbe1b2eb-6761-4d27-d6fe-214ec96691dd"
      },
      "execution_count": null,
      "outputs": [
        {
          "output_type": "stream",
          "name": "stdout",
          "text": [
            "Reading package lists... Done\n",
            "Building dependency tree       \n",
            "Reading state information... Done\n",
            "fonts-nanum is already the newest version (20170925-1).\n",
            "The following package was automatically installed and is no longer required:\n",
            "  libnvidia-common-460\n",
            "Use 'sudo apt autoremove' to remove it.\n",
            "0 upgraded, 0 newly installed, 0 to remove and 20 not upgraded.\n",
            "/usr/share/fonts: caching, new cache contents: 0 fonts, 1 dirs\n",
            "/usr/share/fonts/truetype: caching, new cache contents: 0 fonts, 3 dirs\n",
            "/usr/share/fonts/truetype/humor-sans: caching, new cache contents: 1 fonts, 0 dirs\n",
            "/usr/share/fonts/truetype/liberation: caching, new cache contents: 16 fonts, 0 dirs\n",
            "/usr/share/fonts/truetype/nanum: caching, new cache contents: 10 fonts, 0 dirs\n",
            "/usr/local/share/fonts: caching, new cache contents: 0 fonts, 0 dirs\n",
            "/root/.local/share/fonts: skipping, no such directory\n",
            "/root/.fonts: skipping, no such directory\n",
            "/var/cache/fontconfig: cleaning cache directory\n",
            "/root/.cache/fontconfig: not cleaning non-existent cache directory\n",
            "/root/.fontconfig: not cleaning non-existent cache directory\n",
            "fc-cache: succeeded\n"
          ]
        }
      ]
    },
    {
      "cell_type": "code",
      "source": [
        "import numpy as np\n",
        "import pandas as pd\n",
        "import pandas_datareader.data as pdr\n",
        "import matplotlib.pyplot as plt\n",
        "\n",
        "import datetime\n",
        "\n",
        "import torch\n",
        "import torch.nn as nn\n",
        "from torch.autograd import Variable \n",
        "\n",
        "import torch.optim as optim\n",
        "from torch.utils.data import Dataset, DataLoader"
      ],
      "metadata": {
        "id": "_x27g8gYcqC6"
      },
      "execution_count": null,
      "outputs": []
    },
    {
      "cell_type": "code",
      "execution_count": null,
      "metadata": {
        "colab": {
          "base_uri": "https://localhost:8080/"
        },
        "id": "aLzKBZLNatoO",
        "outputId": "e4a63501-58f3-4af2-d1a3-3dd1a84916c8"
      },
      "outputs": [
        {
          "output_type": "stream",
          "name": "stdout",
          "text": [
            "               Open          High           Low         Close     Adj Close  \\\n",
            "count   2695.000000   2695.000000   2695.000000   2695.000000   2695.000000   \n",
            "mean   43057.395176  43461.243043  42644.478664  43045.703154  38652.386014   \n",
            "std    17902.852552  18046.177797  17752.803949  17880.147465  18804.722204   \n",
            "min    20320.000000  20480.000000  20220.000000  20320.000000  16251.537110   \n",
            "25%    26770.000000  26960.000000  26490.000000  26740.000000  21786.947270   \n",
            "50%    41950.000000  42440.000000  41700.000000  42140.000000  37181.941410   \n",
            "75%    54400.000000  54850.000000  53800.000000  54250.000000  49188.619140   \n",
            "max    90300.000000  96800.000000  89500.000000  91000.000000  87764.796880   \n",
            "\n",
            "             Volume  \n",
            "count  2.695000e+03  \n",
            "mean   1.410899e+07  \n",
            "std    7.224147e+06  \n",
            "min    0.000000e+00  \n",
            "25%    9.591050e+06  \n",
            "50%    1.244584e+07  \n",
            "75%    1.649126e+07  \n",
            "max    9.030618e+07  \n",
            "<class 'pandas.core.frame.DataFrame'>\n",
            "DatetimeIndex: 2695 entries, 2012-01-02 to 2022-12-14\n",
            "Data columns (total 6 columns):\n",
            " #   Column     Non-Null Count  Dtype  \n",
            "---  ------     --------------  -----  \n",
            " 0   Open       2695 non-null   int64  \n",
            " 1   High       2695 non-null   int64  \n",
            " 2   Low        2695 non-null   int64  \n",
            " 3   Close      2695 non-null   int64  \n",
            " 4   Adj Close  2695 non-null   float64\n",
            " 5   Volume     2695 non-null   int64  \n",
            "dtypes: float64(1), int64(5)\n",
            "memory usage: 147.4 KB\n",
            "None\n"
          ]
        }
      ],
      "source": [
        "# yahoo financel 에서 삼성 전자 불러오기 \n",
        "start = (2012, 1, 1)  # 2012년 01년 01월 ~\n",
        "start = datetime.datetime(*start)  \n",
        "end = datetime.date.today()  # 현재 \n",
        "\n",
        "# df = pdr.DataReader('005930.KS', 'yahoo', start, end)\n",
        "# 야후에서 자동 다운로드가 되지 않는다\n",
        "# Console 링크를 따라가서 csv 파일을 다운로드 받는다다\n",
        "# https://finance.yahoo.com/quote/005930.KS/history?period1=1641009600&period2=1671076799&interval=1d&frequency=1d&filter=history\n",
        "\n",
        "# 2012년 1월 4일 부터 2022년 12월 14일까지 일일 데이터를 다운로드 받아 파일로 생성.\n",
        "# github 에 업로드된 데이터를 다운로드 받아 코랩 파일 디렉토리에 추가한 후 실행\n",
        "# 데이터 URL : https://github.com/callor/Callor-DeepLearning-2022/blob/master/005930(2012-01-01).KS.csv\n",
        "# 날짜 칼럼을 index 로 하여 데이터 만들기\n",
        "df = pd.read_csv('005930(2012-01-01).KS.csv', index_col = 'Date', parse_dates=True)\n",
        "\n",
        "# 불러온 데이터에 유효하지 않은 값이 있는지 확인\n",
        "# 각 column 의 count 값을 확인하여 count 값이 다른 칼럼보다\n",
        "# 작으면 해당 칼럼에 NaN 데이터가 존재한다는 것을 알 수 있다.\n",
        "\n",
        "# 테이블에서는 count 뿐만 아니라, \n",
        "# mean / std와 같은 속성들에 대한 종합적인 정보도 제공해 준다\n",
        "print(df.describe())\n",
        "\n",
        "# .info()의 메소드를 활용해서도 NaN값이 어느 column에서 빠졌는지 쉽게 확인할 수 있다.\n",
        "print(df.info())\n"
      ]
    },
    {
      "cell_type": "code",
      "source": [
        "# 처음부터 5개의 데이터 보여주기\n",
        "# df.head(5)\n",
        "\n",
        "# 끝에서 10개의 데이터 보여주기\n",
        "# 최근 날짜로 부터 10일 전까지 보여주기기\n",
        "df.tail(10)"
      ],
      "metadata": {
        "colab": {
          "base_uri": "https://localhost:8080/",
          "height": 394
        },
        "id": "IipPsXx2LFIa",
        "outputId": "b8fdcbd6-5904-42a6-a1ef-02ce7e21e75b"
      },
      "execution_count": null,
      "outputs": [
        {
          "output_type": "execute_result",
          "data": {
            "text/plain": [
              "             Open   High    Low  Close  Adj Close    Volume\n",
              "Date                                                       \n",
              "2022-12-01  63100  63200  62300  62600    62600.0  16631445\n",
              "2022-12-02  62500  62500  60400  60400    60400.0  15331184\n",
              "2022-12-05  60900  61100  60000  60300    60300.0  13767787\n",
              "2022-12-06  59800  60100  59200  59200    59200.0  13888300\n",
              "2022-12-07  58800  59600  58500  58900    58900.0  12100662\n",
              "2022-12-08  58700  59200  58600  59200    59200.0  12986815\n",
              "2022-12-09  59300  60600  59300  60400    60400.0  10529632\n",
              "2022-12-12  59900  60000  59400  59500    59500.0   9036472\n",
              "2022-12-13  59600  60300  59400  59700    59700.0   9040873\n",
              "2022-12-14  59800  60600  59800  60300    60300.0   4443728"
            ],
            "text/html": [
              "\n",
              "  <div id=\"df-2f24a98d-b322-4e57-a442-14dadeb8798d\">\n",
              "    <div class=\"colab-df-container\">\n",
              "      <div>\n",
              "<style scoped>\n",
              "    .dataframe tbody tr th:only-of-type {\n",
              "        vertical-align: middle;\n",
              "    }\n",
              "\n",
              "    .dataframe tbody tr th {\n",
              "        vertical-align: top;\n",
              "    }\n",
              "\n",
              "    .dataframe thead th {\n",
              "        text-align: right;\n",
              "    }\n",
              "</style>\n",
              "<table border=\"1\" class=\"dataframe\">\n",
              "  <thead>\n",
              "    <tr style=\"text-align: right;\">\n",
              "      <th></th>\n",
              "      <th>Open</th>\n",
              "      <th>High</th>\n",
              "      <th>Low</th>\n",
              "      <th>Close</th>\n",
              "      <th>Adj Close</th>\n",
              "      <th>Volume</th>\n",
              "    </tr>\n",
              "    <tr>\n",
              "      <th>Date</th>\n",
              "      <th></th>\n",
              "      <th></th>\n",
              "      <th></th>\n",
              "      <th></th>\n",
              "      <th></th>\n",
              "      <th></th>\n",
              "    </tr>\n",
              "  </thead>\n",
              "  <tbody>\n",
              "    <tr>\n",
              "      <th>2022-12-01</th>\n",
              "      <td>63100</td>\n",
              "      <td>63200</td>\n",
              "      <td>62300</td>\n",
              "      <td>62600</td>\n",
              "      <td>62600.0</td>\n",
              "      <td>16631445</td>\n",
              "    </tr>\n",
              "    <tr>\n",
              "      <th>2022-12-02</th>\n",
              "      <td>62500</td>\n",
              "      <td>62500</td>\n",
              "      <td>60400</td>\n",
              "      <td>60400</td>\n",
              "      <td>60400.0</td>\n",
              "      <td>15331184</td>\n",
              "    </tr>\n",
              "    <tr>\n",
              "      <th>2022-12-05</th>\n",
              "      <td>60900</td>\n",
              "      <td>61100</td>\n",
              "      <td>60000</td>\n",
              "      <td>60300</td>\n",
              "      <td>60300.0</td>\n",
              "      <td>13767787</td>\n",
              "    </tr>\n",
              "    <tr>\n",
              "      <th>2022-12-06</th>\n",
              "      <td>59800</td>\n",
              "      <td>60100</td>\n",
              "      <td>59200</td>\n",
              "      <td>59200</td>\n",
              "      <td>59200.0</td>\n",
              "      <td>13888300</td>\n",
              "    </tr>\n",
              "    <tr>\n",
              "      <th>2022-12-07</th>\n",
              "      <td>58800</td>\n",
              "      <td>59600</td>\n",
              "      <td>58500</td>\n",
              "      <td>58900</td>\n",
              "      <td>58900.0</td>\n",
              "      <td>12100662</td>\n",
              "    </tr>\n",
              "    <tr>\n",
              "      <th>2022-12-08</th>\n",
              "      <td>58700</td>\n",
              "      <td>59200</td>\n",
              "      <td>58600</td>\n",
              "      <td>59200</td>\n",
              "      <td>59200.0</td>\n",
              "      <td>12986815</td>\n",
              "    </tr>\n",
              "    <tr>\n",
              "      <th>2022-12-09</th>\n",
              "      <td>59300</td>\n",
              "      <td>60600</td>\n",
              "      <td>59300</td>\n",
              "      <td>60400</td>\n",
              "      <td>60400.0</td>\n",
              "      <td>10529632</td>\n",
              "    </tr>\n",
              "    <tr>\n",
              "      <th>2022-12-12</th>\n",
              "      <td>59900</td>\n",
              "      <td>60000</td>\n",
              "      <td>59400</td>\n",
              "      <td>59500</td>\n",
              "      <td>59500.0</td>\n",
              "      <td>9036472</td>\n",
              "    </tr>\n",
              "    <tr>\n",
              "      <th>2022-12-13</th>\n",
              "      <td>59600</td>\n",
              "      <td>60300</td>\n",
              "      <td>59400</td>\n",
              "      <td>59700</td>\n",
              "      <td>59700.0</td>\n",
              "      <td>9040873</td>\n",
              "    </tr>\n",
              "    <tr>\n",
              "      <th>2022-12-14</th>\n",
              "      <td>59800</td>\n",
              "      <td>60600</td>\n",
              "      <td>59800</td>\n",
              "      <td>60300</td>\n",
              "      <td>60300.0</td>\n",
              "      <td>4443728</td>\n",
              "    </tr>\n",
              "  </tbody>\n",
              "</table>\n",
              "</div>\n",
              "      <button class=\"colab-df-convert\" onclick=\"convertToInteractive('df-2f24a98d-b322-4e57-a442-14dadeb8798d')\"\n",
              "              title=\"Convert this dataframe to an interactive table.\"\n",
              "              style=\"display:none;\">\n",
              "        \n",
              "  <svg xmlns=\"http://www.w3.org/2000/svg\" height=\"24px\"viewBox=\"0 0 24 24\"\n",
              "       width=\"24px\">\n",
              "    <path d=\"M0 0h24v24H0V0z\" fill=\"none\"/>\n",
              "    <path d=\"M18.56 5.44l.94 2.06.94-2.06 2.06-.94-2.06-.94-.94-2.06-.94 2.06-2.06.94zm-11 1L8.5 8.5l.94-2.06 2.06-.94-2.06-.94L8.5 2.5l-.94 2.06-2.06.94zm10 10l.94 2.06.94-2.06 2.06-.94-2.06-.94-.94-2.06-.94 2.06-2.06.94z\"/><path d=\"M17.41 7.96l-1.37-1.37c-.4-.4-.92-.59-1.43-.59-.52 0-1.04.2-1.43.59L10.3 9.45l-7.72 7.72c-.78.78-.78 2.05 0 2.83L4 21.41c.39.39.9.59 1.41.59.51 0 1.02-.2 1.41-.59l7.78-7.78 2.81-2.81c.8-.78.8-2.07 0-2.86zM5.41 20L4 18.59l7.72-7.72 1.47 1.35L5.41 20z\"/>\n",
              "  </svg>\n",
              "      </button>\n",
              "      \n",
              "  <style>\n",
              "    .colab-df-container {\n",
              "      display:flex;\n",
              "      flex-wrap:wrap;\n",
              "      gap: 12px;\n",
              "    }\n",
              "\n",
              "    .colab-df-convert {\n",
              "      background-color: #E8F0FE;\n",
              "      border: none;\n",
              "      border-radius: 50%;\n",
              "      cursor: pointer;\n",
              "      display: none;\n",
              "      fill: #1967D2;\n",
              "      height: 32px;\n",
              "      padding: 0 0 0 0;\n",
              "      width: 32px;\n",
              "    }\n",
              "\n",
              "    .colab-df-convert:hover {\n",
              "      background-color: #E2EBFA;\n",
              "      box-shadow: 0px 1px 2px rgba(60, 64, 67, 0.3), 0px 1px 3px 1px rgba(60, 64, 67, 0.15);\n",
              "      fill: #174EA6;\n",
              "    }\n",
              "\n",
              "    [theme=dark] .colab-df-convert {\n",
              "      background-color: #3B4455;\n",
              "      fill: #D2E3FC;\n",
              "    }\n",
              "\n",
              "    [theme=dark] .colab-df-convert:hover {\n",
              "      background-color: #434B5C;\n",
              "      box-shadow: 0px 1px 3px 1px rgba(0, 0, 0, 0.15);\n",
              "      filter: drop-shadow(0px 1px 2px rgba(0, 0, 0, 0.3));\n",
              "      fill: #FFFFFF;\n",
              "    }\n",
              "  </style>\n",
              "\n",
              "      <script>\n",
              "        const buttonEl =\n",
              "          document.querySelector('#df-2f24a98d-b322-4e57-a442-14dadeb8798d button.colab-df-convert');\n",
              "        buttonEl.style.display =\n",
              "          google.colab.kernel.accessAllowed ? 'block' : 'none';\n",
              "\n",
              "        async function convertToInteractive(key) {\n",
              "          const element = document.querySelector('#df-2f24a98d-b322-4e57-a442-14dadeb8798d');\n",
              "          const dataTable =\n",
              "            await google.colab.kernel.invokeFunction('convertToInteractive',\n",
              "                                                     [key], {});\n",
              "          if (!dataTable) return;\n",
              "\n",
              "          const docLinkHtml = 'Like what you see? Visit the ' +\n",
              "            '<a target=\"_blank\" href=https://colab.research.google.com/notebooks/data_table.ipynb>data table notebook</a>'\n",
              "            + ' to learn more about interactive tables.';\n",
              "          element.innerHTML = '';\n",
              "          dataTable['output_type'] = 'display_data';\n",
              "          await google.colab.output.renderOutput(dataTable, element);\n",
              "          const docLink = document.createElement('div');\n",
              "          docLink.innerHTML = docLinkHtml;\n",
              "          element.appendChild(docLink);\n",
              "        }\n",
              "      </script>\n",
              "    </div>\n",
              "  </div>\n",
              "  "
            ]
          },
          "metadata": {},
          "execution_count": 195
        }
      ]
    },
    {
      "cell_type": "code",
      "source": [
        "# 종가 기준으로 그래프 그리기\n",
        "# 프로젝트에서 제시한 방법으로 그려보기\n",
        "plt.style.use('classic')\n",
        "\n",
        "df.Close.plot(grid=True)"
      ],
      "metadata": {
        "colab": {
          "base_uri": "https://localhost:8080/",
          "height": 500
        },
        "id": "IFQezRGFvmIQ",
        "outputId": "81b52851-88fe-439e-cab3-98a472b2e6eb"
      },
      "execution_count": null,
      "outputs": [
        {
          "output_type": "execute_result",
          "data": {
            "text/plain": [
              "<matplotlib.axes._subplots.AxesSubplot at 0x7f88f4b53eb0>"
            ]
          },
          "metadata": {},
          "execution_count": 197
        },
        {
          "output_type": "display_data",
          "data": {
            "text/plain": [
              "<Figure size 800x560 with 1 Axes>"
            ],
            "image/png": "[encoded data removed]"
          },
          "metadata": {}
        }
      ]
    },
    {
      "cell_type": "code",
      "source": [
        "# matplotlib 에서 한글을 사용하기 위해 폰트 세팅\n",
        "plt.rc('font', family='NanumBarunGothic') \n",
        "\n",
        "# plot ggplot 스타일 지정하여 그래프 그리기\n",
        "plt.style.use('ggplot')\n",
        "plt.figure(figsize=(15,7)) \n",
        "\n",
        "# 종가 기준으로 그래프 그리기\n",
        "# 한글 문제를 해결하기 위해 처음부분에서 폰트 다운로드 받고 세팅을 해주어야 함\n",
        "# 테스트 하는 과정에서 폰트 설정이 변경면 다시 세팅부분을 실행해 주어야 함함\n",
        "df['Close'].plot(title='삼성전자 주가')"
      ],
      "metadata": {
        "colab": {
          "base_uri": "https://localhost:8080/",
          "height": 513
        },
        "id": "F2pPboQqv1vy",
        "outputId": "5d3f32e7-2574-4642-d431-ac9084c37985"
      },
      "execution_count": null,
      "outputs": [
        {
          "output_type": "execute_result",
          "data": {
            "text/plain": [
              "<matplotlib.axes._subplots.AxesSubplot at 0x7f88f5e90df0>"
            ]
          },
          "metadata": {},
          "execution_count": 206
        },
        {
          "output_type": "display_data",
          "data": {
            "text/plain": [
              "<Figure size 1200x560 with 1 Axes>"
            ],
            "image/png": "[encoded data removed]"
          },
          "metadata": {}
        }
      ]
    },
    {
      "cell_type": "markdown",
      "source": [
        "## 데이터 정규화와 표준화\n",
        "### 학습이 좀더 잘 될수 있도록 샘플데이터를 표준화와 정규화를 실시하기 위한 데이터 추출\n",
        "### 표준화된 데이터와 정규화된 라벨을 만들어 낸다\n",
        "\n",
        "### 표준화(StandardScaler 함수사용)\n",
        "* 모든 데이터들을 평균이 0이고 분산이 1인 정규 분포로 만드는 것이다.  \n",
        "수학식부터 살펴보면 굉장히 간단하다.  \n",
        "(Xi - (X의 평균)) / (X의 표준편차)\n",
        "\n",
        "* 예시로 설명을 하자면, 만약 평균이 50이인데 임의 숫자는 49라 하자,  \n",
        "(49-50) / 1 = -1이다.  \n",
        "여기서 표준편차란 평균으로부터 얼마나  떨어져있는지를 구한 것이다. \n",
        "* 다음의 라이브러리를 사용한다.\n",
        "```\n",
        "from sklearn.preprocessing import StandardScaler, MinMaxScaler\n",
        "from sklearn.datasets import load_iris\n",
        "import pandas as pd\n",
        "```\n",
        "\n",
        "### 정규화(MinMaxScaler 함수사용)\n",
        "* 정규화란, 모든 값을 0~1 사이의 값으로 바꾸는 것이다. 음수도 예외 없이 다 바꾼다. 표준화와는 차이가 있다.\n",
        "* 수학식을 보면,  \n",
        "( X- (X의 최솟값) ) / ( X의 최댓값 - X의 최솟값 )이다. \n",
        "* 예를들어 최댓값 10, 최솟값 2 일 때, 4는 어떻게 정규화될까?  \n",
        "(4 - 2) / (10 - 2 ) = 0.25로 정규화될 수 있다.\n",
        "\n",
        "* 다음의 라이브러리를 사용한다\n",
        "```\n",
        "from sklearn.preprocessing import StandardScaler, MinMaxScaler\n",
        "from sklearn.datasets import load_iris\n",
        "import pandas as pd\n",
        "```"
      ],
      "metadata": {
        "id": "2G3bevwElNBV"
      }
    },
    {
      "cell_type": "code",
      "source": [
        "# 파일에 있는 데이터의 각 항목은 다음과 같다\n",
        "##  open 시가\n",
        "##  high 고가\n",
        "##  low 저가\n",
        "##  close 종가\n",
        "##  volume 거래량\n",
        "##  Adj Close 주식의 분할, 배당, 배분 등을 고려해 조정한 종가\n",
        "\n",
        "# 필요데이터 추출하기 방법 1\n",
        "# 여기에서 거래량(Volume)은 데이터에서 삭제를 하고,\n",
        "#   X(데이터) 값으로는 Volume 이 제거된 데이터를 담고\n",
        "#   y(라벨) 값으로 Close(종가)를 담는다.\n",
        "X = df.drop(columns='Volume')\n",
        "#   y = df.iloc[:, 5:6]\n",
        "\n",
        "# 필요데이터 추출하기 방법 2\n",
        "#   X(데이터) 값으로는 Volume 이 제거된 데이터를 담고\n",
        "# X = df.iloc[:, :-2]\n",
        "\n",
        "# y(라벨) 값으로 Close(종가)를 담는다.\n",
        "# 날짜(index) 와 종가데이터만 추출\n",
        "y = df.iloc[:, 4:5] \n",
        "\n",
        "print(X)\n",
        "print(y)"
      ],
      "metadata": {
        "colab": {
          "base_uri": "https://localhost:8080/"
        },
        "id": "EU0YyI0PgFSd",
        "outputId": "109860d0-29e5-4a3f-9c41-d423deca7ac7"
      },
      "execution_count": null,
      "outputs": [
        {
          "output_type": "stream",
          "name": "stdout",
          "text": [
            "             Open   High    Low  Close    Adj Close\n",
            "Date                                               \n",
            "2012-01-02  21400  21600  21300  21600  17275.26367\n",
            "2012-01-03  21860  22100  21840  22100  17675.15430\n",
            "2012-01-04  22100  22200  21500  21600  17275.26367\n",
            "2012-01-05  21460  21580  21100  21100  16875.36914\n",
            "2012-01-06  21120  21320  20600  20800  16635.43359\n",
            "...           ...    ...    ...    ...          ...\n",
            "2022-12-08  58700  59200  58600  59200  59200.00000\n",
            "2022-12-09  59300  60600  59300  60400  60400.00000\n",
            "2022-12-12  59900  60000  59400  59500  59500.00000\n",
            "2022-12-13  59600  60300  59400  59700  59700.00000\n",
            "2022-12-14  59800  60600  59800  60300  60300.00000\n",
            "\n",
            "[2695 rows x 5 columns]\n",
            "              Adj Close\n",
            "Date                   \n",
            "2012-01-02  17275.26367\n",
            "2012-01-03  17675.15430\n",
            "2012-01-04  17275.26367\n",
            "2012-01-05  16875.36914\n",
            "2012-01-06  16635.43359\n",
            "...                 ...\n",
            "2022-12-08  59200.00000\n",
            "2022-12-09  60400.00000\n",
            "2022-12-12  59500.00000\n",
            "2022-12-13  59700.00000\n",
            "2022-12-14  60300.00000\n",
            "\n",
            "[2695 rows x 1 columns]\n"
          ]
        }
      ]
    },
    {
      "cell_type": "code",
      "source": [
        "\n",
        "# 학습이 잘 될 수 있도록 데이터를 표준화와 정규화를 수행한다\n",
        "# StandardScaler : 각 특징의 평균을 0, 분산을 1이 되도록 변경한다\n",
        "# MinMaxScaler : 최대/최소값이 각각 1, 0이 되도록 변경\n",
        "from sklearn.preprocessing import StandardScaler, MinMaxScaler\n",
        "\n",
        "# 표준화를 위한 함수\n",
        "ss = StandardScaler()\n",
        "\n",
        "# 정규화를 하기위한 함수\n",
        "mm = MinMaxScaler()\n",
        "\n",
        "# 이렇게 하면 데이터 세트가 변환되고 크기가 조정됩니다.\n",
        "X_ss = ss.fit_transform(X)\n",
        "y_mm = mm.fit_transform(y) \n",
        "\n",
        "# 표준화된 데이터에서 학습데이터 추출\n",
        "\n",
        "# 표준화된 데이터 세트를 두 부분으로 나눈다.\n",
        "# 순차 데이터이고 순서가 중요하므로 처음 2500개 행을 학습용으로, \n",
        "# 나머지 행을 데이터 테스트용으로 사용한다. \n",
        "X_train = X_ss[:2400, :]\n",
        "X_test = X_ss[2400:, :]\n",
        "\n",
        "# 정규화된 데이터에서 학습데이터 추출\n",
        "# 예측데이터와 실제 데이터의 정확도를 확인하기 위해 \n",
        "# from sklearn.metrics import accuracy_score 를 통해 정확한 값으로 확인할 수 있다. )\n",
        "y_train = y_mm[:2400, :]\n",
        "y_test = y_mm[2400:, :] \n",
        "\n",
        "# 확인을 위해 교육 및 테스트 데이터 셰이프를 인쇄\n",
        "# 표준화된 데이터는 index(Date) 제외 4개의 칼럼을 가지며, \n",
        "# 정규화된 데이터는 index(Date) 제외 1개의 칼럼을 갖는다.\n",
        "print(\"Training Shape\", X_train.shape , y_train.shape)\n",
        "print(\"Testing Shape\", X_test.shape, y_test.shape) \n",
        "print(X_ss)\n",
        "print(y_mm)\n"
      ],
      "metadata": {
        "colab": {
          "base_uri": "https://localhost:8080/"
        },
        "id": "28BAa9W-getB",
        "outputId": "1bc19231-cbc2-4d15-e4ba-f4111ab7b6e6"
      },
      "execution_count": null,
      "outputs": [
        {
          "output_type": "stream",
          "name": "stdout",
          "text": [
            "Training Shape (2400, 5) (2400, 1)\n",
            "Testing Shape (295, 5) (295, 1)\n",
            "[[-1.20994206 -1.21163054 -1.20253904 -1.19963681 -1.1370064 ]\n",
            " [-1.18424307 -1.1839187  -1.17211566 -1.17166764 -1.11573702]\n",
            " [-1.17083489 -1.17837633 -1.19127112 -1.19963681 -1.1370064 ]\n",
            " ...\n",
            " [ 0.94095231  0.91663877  0.94399909  0.92042588  1.10884291]\n",
            " [ 0.9241921   0.93326587  0.94399909  0.93161354  1.11948051]\n",
            " [ 0.93536557  0.94989298  0.96653493  0.96517654  1.15139331]]\n",
            "[[0.0143152 ]\n",
            " [0.01990704]\n",
            " [0.0143152 ]\n",
            " ...\n",
            " [0.60476145]\n",
            " [0.60755814]\n",
            " [0.61594819]]\n"
          ]
        }
      ]
    },
    {
      "cell_type": "code",
      "source": [
        "\n",
        "# PyTorch에서 프로그래밍하는 경우 PyTorch에서 다루는 모든 것은 \n",
        "# numpy의 강력한 버전으로 생각할 수 있는 텐서라는 것을 알아야 한다.\n",
        "# 따라서 데이터 세트를 텐서로 변환해야 한다\n",
        "# 이 간단한 코드를 통해 Numpy 배열을 Tensor 및 변수(구분 가능)로 간단히 변환한다\n",
        "X_train_tensors = Variable(torch.Tensor(X_train))\n",
        "X_test_tensors = Variable(torch.Tensor(X_test))\n",
        "\n",
        "y_train_tensors = Variable(torch.Tensor(y_train))\n",
        "y_test_tensors = Variable(torch.Tensor(y_test)) \n",
        "\n",
        "# 이제 LSTM의 입력 형식을 확인한다.\n",
        "# 즉, LSTM은 순차 데이터용으로 특별히 제작되었기 때문에 \n",
        "# 단순한 2차원 데이터를 입력으로 사용할 수 없다. \n",
        "# 입력데이터에 타임스템프가 필요하므로 타임 스탬프를 포함하는 \n",
        "# 데이터세트로 변환한다\n",
        "X_train_tensors_final = torch.reshape(X_train_tensors,   (X_train_tensors.shape[0], 1, X_train_tensors.shape[1]))\n",
        "X_test_tensors_final = torch.reshape(X_test_tensors,  (X_test_tensors.shape[0], 1, X_test_tensors.shape[1])) \n",
        "\n",
        "print(\"Training Shape\", X_train_tensors_final.shape, y_train_tensors.shape)\n",
        "print(\"Testing Shape\", X_test_tensors_final.shape, y_test_tensors.shape) \n",
        "print(X_train_tensors_final)"
      ],
      "metadata": {
        "colab": {
          "base_uri": "https://localhost:8080/"
        },
        "id": "1z07PXlPswH_",
        "outputId": "593b7b5a-c92e-4da4-8fdb-1a36ecc88942"
      },
      "execution_count": null,
      "outputs": [
        {
          "output_type": "stream",
          "name": "stdout",
          "text": [
            "Training Shape torch.Size([2400, 1, 5]) torch.Size([2400, 1])\n",
            "Testing Shape torch.Size([295, 1, 5]) torch.Size([295, 1])\n",
            "tensor([[[-1.2099, -1.2116, -1.2025, -1.1996, -1.1370]],\n",
            "\n",
            "        [[-1.1842, -1.1839, -1.1721, -1.1717, -1.1157]],\n",
            "\n",
            "        [[-1.1708, -1.1784, -1.1913, -1.1996, -1.1370]],\n",
            "\n",
            "        ...,\n",
            "\n",
            "        [[ 1.7734,  1.7646,  1.7553,  1.7371,  1.7973]],\n",
            "\n",
            "        [[ 1.7454,  1.7369,  1.7497,  1.7371,  1.7973]],\n",
            "\n",
            "        [[ 1.7231,  1.6926,  1.7046,  1.6868,  1.7505]]])\n"
          ]
        }
      ]
    },
    {
      "cell_type": "code",
      "source": [
        "# tensor 로 완성된 학습 데이터 확인\n",
        "print(X_train_tensors_final[:5])"
      ],
      "metadata": {
        "colab": {
          "base_uri": "https://localhost:8080/"
        },
        "id": "KZpUuKihGW9h",
        "outputId": "4fded333-2ef3-4f5a-a9fe-40ab39207cdb"
      },
      "execution_count": null,
      "outputs": [
        {
          "output_type": "stream",
          "name": "stdout",
          "text": [
            "tensor([[[-1.2099, -1.2116, -1.2025, -1.1996]],\n",
            "\n",
            "        [[-1.1842, -1.1839, -1.1721, -1.1717]],\n",
            "\n",
            "        [[-1.1708, -1.1784, -1.1913, -1.1996]],\n",
            "\n",
            "        [[-1.2066, -1.2127, -1.2138, -1.2276]],\n",
            "\n",
            "        [[-1.2256, -1.2271, -1.2420, -1.2444]]])\n"
          ]
        }
      ]
    },
    {
      "cell_type": "code",
      "source": [
        "# 학습을 실행할 디바이스의 CPU 를 정한다\n",
        "# cuda GPU 나 CPU 를 선택한다\n",
        "device = torch.device(\"cuda:0\" if torch.cuda.is_available() else \"cpu\") \n",
        "\n",
        "# cuda GPU 가 있는경우 다음 주석 제거거\n",
        "# print(torch.cuda.get_device_name(0))"
      ],
      "metadata": {
        "id": "rJRgPTvxs0y_"
      },
      "execution_count": null,
      "outputs": []
    },
    {
      "cell_type": "markdown",
      "source": [
        "### 이제 학습 할 준비 도구를 마련한다. \n",
        "* LSTM 모델을 만들 클래스를 정의한다. \n",
        "* PyTorch는 훨씬 더 파이썬적이기 때문에 PyTorch의 모든 모델은   \n",
        "`nn.Module` 슈퍼클래스를 상속받는 사용자정의 클래스를 만든다\n",
        "\n",
        "\n",
        "```\n",
        "    self.num_classes = num_classes\n",
        "    self.num_layers = num_layers\n",
        "    self.input_size = input_size\n",
        "    self.hidden_size = hidden_size\n",
        "    self.seq_length = seq_length\n",
        "```    \n",
        "*  `hidden_size`를 통해 서로 겹쳐진 동일한 하이퍼파라미터가 있는 \n",
        "2개의 LSTM 레이어를 사용하고,  \n",
        "2개의 완전 연결 레이어, ReLU 레이어 및 일부 도우미 변수를 정의한다.\n",
        "* 다음으로 LSTM의 순방향 패스를 정의한다.\n",
        "\n"
      ],
      "metadata": {
        "id": "bFgB-NM0pE_u"
      }
    },
    {
      "cell_type": "code",
      "source": [
        "\n",
        "class LSTM1(nn.Module):\n",
        "  def __init__(self, num_classes, input_size, hidden_size, num_layers, seq_length):\n",
        "    super(LSTM1, self).__init__()\n",
        "    self.num_classes = num_classes\n",
        "    self.num_layers = num_layers\n",
        "    self.input_size = input_size\n",
        "    self.hidden_size = hidden_size\n",
        "    self.seq_length = seq_length\n",
        " \n",
        "    # LSTM\n",
        "    self.lstm = nn.LSTM(input_size=input_size, hidden_size=hidden_size,num_layers=num_layers, batch_first=True) \n",
        "    \n",
        "    # fully connected 1 생성\n",
        "    # 이전 레이어의 모든 노드가 다음 레이어의 모든 노드에 연결된 레이어를 \n",
        "    # Fully Connected Layer(FC Layer)라고 한다. \n",
        "    # FC Layer를 Dense Layer라고도 한다\n",
        "    self.fc_1 =  nn.Linear(hidden_size, 128) \n",
        "\n",
        "    # fully connected last layer\n",
        "    self.fc = nn.Linear(128, num_classes) \n",
        "\n",
        "    # ReLu() 함수 적용\n",
        "    self.relu = nn.ReLU() \n",
        "\n",
        "  def forward(self,x):\n",
        "    h_0 = Variable(torch.zeros(self.num_layers, x.size(0), self.hidden_size)).to(device) # hidden state\n",
        "    c_0 = Variable(torch.zeros(self.num_layers, x.size(0), self.hidden_size)).to(device) # internal state   \n",
        "    \n",
        "    # Propagate input through LSTM\n",
        "\n",
        "    #lstm with input, hidden, and internal state\n",
        "    output, (hn, cn) = self.lstm(x, (h_0, c_0)) \n",
        "   \n",
        "    #reshaping the data for Dense layer next\n",
        "    hn = hn.view(-1, self.hidden_size) \n",
        "    out = self.relu(hn) # 첫 ReLu 층 통과\n",
        "    out = self.fc_1(out) # 첫번째 Dense 층 통과\n",
        "    out = self.relu(out) # ReLu 함수 층 통과\n",
        "    out = self.fc(out)   # 최종 출력 층 통과\n",
        "  \n",
        "    return out \n",
        "\n",
        "print(LSTM1)"
      ],
      "metadata": {
        "colab": {
          "base_uri": "https://localhost:8080/"
        },
        "id": "3ss3GhCqtHQt",
        "outputId": "f50b6c93-72ef-4851-9683-123a1b09c1cd"
      },
      "execution_count": null,
      "outputs": [
        {
          "output_type": "stream",
          "name": "stdout",
          "text": [
            "<class '__main__.LSTM1'>\n"
          ]
        }
      ]
    },
    {
      "cell_type": "markdown",
      "source": [
        "### 중요한 변수와 레이어를 정의한다.\n",
        "\n",
        "```\n",
        "  가. input_size: input의 feature dimension을 넣어준다. time step이 아니라 input feature dimension!\n",
        "  나. hidden_size: 내부에서 어떤 feature dimension으로 바꿔주고 싶은지를 넣어준다.\n",
        "  다. num_layers: lstm layer를 얼마나 쌓을지\n",
        "  라. bias: bias term을 둘 것인가 (Default: True)\n",
        "  마. batch_first: batch가 0번 dimension으로 오게 하려면 설정  \n",
        "      batch_first=False라면, (Time_step, Batch_size, Input_feature_dimension) 순서\n",
        "    batch_first=True라면, (Batch_size, Time_step, Input_feature_dimension) 순서.\n",
        "  바. dropout: 가지치기 얼마나 할지, generalization 잘안되면 이걸 조정한다.\n",
        "  사. bidirectional: 양방향으로 할지 말지 (bidirectional 하면 [forward, backword] 로 feature dimension 2배 됨)\n",
        "```\n",
        "\n",
        "* 숨겨진 상태와 내부 상태를 먼저 정의하고 0으로 초기화했다.  \n",
        "현재 타임스탬프 t의 입력과 함께 숨겨진 상태와 내부 상태를 LSTM에 전달한다.  \n",
        "그러면 새로운 숨겨진 상태, 현재 상태 및 출력이 반환된다 \n",
        "* 출력이 Dense Layer로 전달될 수 있도록 모양을 변경한다. \n",
        "* 다음으로 간단히 활성화를 적용하고 고밀도 레이어에 전달한 다음 출력을 반환한다.   \n",
        "* 런타임 시 모델을 교육하는 동안 backpropagation logic을 적용한다\n",
        "\n",
        "### hidden state\n",
        "*  RNN은 전 시점의 어떤 정보를 다음 시점으로 넘겨준다고 볼 수 있다.\n",
        "* 다음 시점의 정보는 전 시점의 정보만이 아니라 이전까지의 정보들을 모두 가지고 있을 것이다\n",
        "* 그리고 이처럼 정보를 가지고 있는 것을 cell이라고 하며 현재 cell이 가지고 있는 정보, 즉 다음 시점으로 넘겨줄 정보를 hidden state라고 한다.\n",
        "\n",
        "### learning_rate(학습률)\n",
        "* 학습률은 최소값으로 크게 진동하지 않고 최소값에 도달하거나 무한대로 분기하지 않고 손실 함수가 완만하게 내려갈 수 있을 정도로 작아야한다\n",
        "* 또한, 최적화가 적당한 시간 내에 이루어 지도록 충분히 커야 한다\n",
        "* 하나의 매개 변수에 대해 그라디언트 하강에 제공하는 것으로 학습 속도가 있다.\n",
        "* 충분히 작거나 충분히 큰 학습률은 너무 모호하다  \n",
        "적절한 학습 속도 선택을 다루는 현명한 방법은 소위 학습 속도 스케쥴을 채택하는 것이다  \n",
        "학습 속도 스케쥴은 가장 좋은 방법 중 하나이다"
      ],
      "metadata": {
        "id": "rZ9m5sJFPVAH"
      }
    },
    {
      "cell_type": "code",
      "source": [
        "num_epochs = 1000 # 1000 epochs\n",
        "\n",
        "# 학습 속도 설정\n",
        "# 학습 속도를 변화시켜 가면서 학습결과를 분석하여 가장 근접한 값을 찾았다다\n",
        "learning_rate = 0.001 # 0.001 lr\n",
        "\n",
        "# 특성(features) 개수\n",
        "input_size = 5\n",
        "\n",
        "# 특성의 hidden state 개수\n",
        "hidden_size = 5\n",
        "\n",
        "# LSTM 레이어 개수\n",
        "num_layers = 1\n",
        "\n",
        "# 출력 객체수\n",
        "num_classes = 1"
      ],
      "metadata": {
        "id": "oOH485dttKsS"
      },
      "execution_count": null,
      "outputs": []
    },
    {
      "cell_type": "code",
      "source": [
        "# 위에서 선언한 LSTM 클래스를  사용하여 LSTM 모델 생성\n",
        "lstm1 = LSTM1(num_classes, input_size, hidden_size, num_layers, X_train_tensors_final.shape[1]) \n",
        "\n",
        "# 회귀에 대한 평균 제곱 오차 계산\n",
        "# 입력의 각 요소 사이의 평균 제곱 오차 (제곱 L2 표준)를 측정하는 기준을 생성\n",
        "criterion = torch.nn.MSELoss()    \n",
        "\n",
        "# 옵티마이저 적용\n",
        "# 최소의 손실값을 찾기 위해 손실함수의 미분으로 구한 기울기를 따라 이동하게 되는데, \n",
        "# 이동하는 방식에 대한 선택에 대한 것이다 SGD 방식, Adam 방식 등이 있는데\n",
        "# 여기에서는 Adam을 적용하였다.\n",
        "optimizer = torch.optim.Adam(lstm1.parameters(), lr=learning_rate) \n",
        "\n",
        "# Adam 옵티마이져의 결과를 출력 확인한다\n",
        "print(optimizer)\n"
      ],
      "metadata": {
        "colab": {
          "base_uri": "https://localhost:8080/"
        },
        "id": "L9EsHlJ7tNXA",
        "outputId": "0e93c926-6517-4608-c74c-27cd35674062"
      },
      "execution_count": null,
      "outputs": [
        {
          "output_type": "stream",
          "name": "stdout",
          "text": [
            "Adam (\n",
            "Parameter Group 0\n",
            "    amsgrad: False\n",
            "    betas: (0.9, 0.999)\n",
            "    capturable: False\n",
            "    differentiable: False\n",
            "    eps: 1e-08\n",
            "    foreach: None\n",
            "    fused: False\n",
            "    lr: 0.001\n",
            "    maximize: False\n",
            "    weight_decay: 0\n",
            ")\n"
          ]
        }
      ]
    },
    {
      "cell_type": "code",
      "source": [
        "# 학습하기\n",
        "# 1000 epoch 를 실행하고\n",
        "# 100 epoch 마다 손실을 출력한다다\n",
        "for epoch in range(num_epochs):\n",
        "  outputs = lstm1.forward(X_train_tensors_final)\n",
        "\n",
        "  # 기울기를 계산하고 수동으로 0으로 설정\n",
        "  optimizer.zero_grad()\n",
        " \n",
        "  # 손실함수 얻기\n",
        "  loss = criterion(outputs, y_train_tensors)\n",
        "   \n",
        "  # 손실함수를 통해 손실값을 계산\n",
        "  loss.backward()\n",
        " \n",
        "  # backpropagation 을 통해 손실로 부터 개선점 찾기\n",
        "  optimizer.step()\n",
        "\n",
        "  # 100 epoch 마다 결과를 보여주기\n",
        "  if epoch % 100 == 0:\n",
        "    print(\"Epoch: %d, loss: %1.5f\" % (epoch, loss.item())) "
      ],
      "metadata": {
        "colab": {
          "base_uri": "https://localhost:8080/"
        },
        "id": "CxF7JfEItQB2",
        "outputId": "7ea66790-d68d-4c2c-8e5c-2b62873c506d"
      },
      "execution_count": null,
      "outputs": [
        {
          "output_type": "stream",
          "name": "stdout",
          "text": [
            "Epoch: 0, loss: 0.25812\n",
            "Epoch: 100, loss: 0.02665\n",
            "Epoch: 200, loss: 0.01195\n",
            "Epoch: 300, loss: 0.00160\n",
            "Epoch: 400, loss: 0.00065\n",
            "Epoch: 500, loss: 0.00047\n",
            "Epoch: 600, loss: 0.00022\n",
            "Epoch: 700, loss: 0.00011\n",
            "Epoch: 800, loss: 0.00006\n",
            "Epoch: 900, loss: 0.00004\n"
          ]
        }
      ]
    },
    {
      "cell_type": "code",
      "source": [
        "# 손실이 적고 성능이 좋다는 것을 알 수 있다.\n",
        "# 데이터 세트에 대한 예측을 플로팅하여 성능을 확인하겠습니다.\n",
        "\n",
        "\n",
        "# 전체 데이터 세트에 대한 예측을 수행하기 전에 \n",
        "# 원본 데이터 세트를 모델에 적합한 형식으로 가져온다\n",
        "df_X_ss = ss.transform(df.iloc[:, :-1]) \n",
        "df_y_mm = mm.transform(df.iloc[:, -2:-1])\n",
        "\n",
        "# converting to Tensors\n",
        "df_X_ss = Variable(torch.Tensor(df_X_ss)) \n",
        "df_y_mm = Variable(torch.Tensor(df_y_mm))\n",
        "\n",
        "# reshaping the dataset\n",
        "df_X_ss = torch.reshape(df_X_ss, (df_X_ss.shape[0], 1, df_X_ss.shape[1])) \n",
        "\n",
        "\n"
      ],
      "metadata": {
        "id": "Ng2-rwDJtsO3"
      },
      "execution_count": null,
      "outputs": []
    },
    {
      "cell_type": "markdown",
      "source": [
        "이제 순방향 패스를 통해 전체 데이터 세트에 대한 예측을 수행한 다음 플롯하기 위해 예측을 numpy로 변환하고 역변환 한다"
      ],
      "metadata": {
        "id": "fY25K29y3KsK"
      }
    },
    {
      "cell_type": "code",
      "source": [
        "train_predict = lstm1(df_X_ss)#forward pass\n",
        "data_predict = train_predict.data.numpy() #numpy conversion\n",
        "data_predict = mm.inverse_transform(data_predict) #reverse transformation\n",
        "\n",
        "dataY_plot = df_y_mm.data.numpy()\n",
        "dataY_plot = mm.inverse_transform(dataY_plot)\n",
        "\n",
        "plt.figure(figsize=(10,5)) #plotting\n",
        "plt.axvline(x=2400, c='r', linestyle='--') #size of the training set\n",
        "\n",
        "plt.plot(data_predict, label='예측데이터') #predicted plot\n",
        "plt.plot(dataY_plot, label='실제 데이터') #actual plot\n",
        "\n",
        "plt.title('삼성전자 주가 예측')\n",
        "plt.legend()\n",
        "plt.show() \n",
        "# 더 작은 데이터 세트를 사용함에도 불구하고 모델이 꽤 잘 수행되고 있음을 알 수 있습니다"
      ],
      "metadata": {
        "colab": {
          "base_uri": "https://localhost:8080/",
          "height": 392
        },
        "id": "bU2W2POo0bkO",
        "outputId": "c1dc9f05-54b5-4faa-c3e9-033ee9f16e29"
      },
      "execution_count": null,
      "outputs": [
        {
          "output_type": "display_data",
          "data": {
            "text/plain": [
              "<Figure size 800x400 with 1 Axes>"
            ],
            "image/png": "[encoded data removed]"
          },
          "metadata": {}
        }
      ]
    }
  ]
}