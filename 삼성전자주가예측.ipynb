{
  "nbformat": 4,
  "nbformat_minor": 0,
  "metadata": {
    "colab": {
      "provenance": [],
      "mount_file_id": "1xQQu6bh-WSbgpEL0A0dgMA8mIX-5CE0l",
      "authorship_tag": "ABX9TyOiYJDL7ZFuwDXVdXIhqsXY",
      "include_colab_link": true
    },
    "kernelspec": {
      "name": "python3",
      "display_name": "Python 3"
    },
    "language_info": {
      "name": "python"
    }
  },
  "cells": [
    {
      "cell_type": "markdown",
      "metadata": {
        "id": "view-in-github",
        "colab_type": "text"
      },
      "source": [
        "<a href=\"https://colab.research.google.com/github/callor/Callor-DeepLearning-2022/blob/master/%EC%82%BC%EC%84%B1%EC%A0%84%EC%9E%90%EC%A3%BC%EA%B0%80%EC%98%88%EC%B8%A1.ipynb\" target=\"_parent\"><img src=\"https://colab.research.google.com/assets/colab-badge.svg\" alt=\"Open In Colab\"/></a>"
      ]
    },
    {
      "cell_type": "markdown",
      "source": [
        "## 삼성전자 주가 예측 \n",
        "\n",
        "* 데이터출처 : https://finance.yahoo.com/quote/005930.KS/history?period1=1641009600&period2=1671076799&interval=1d&frequency=1d&filter=history"
      ],
      "metadata": {
        "id": "e0CirICieG1B"
      }
    },
    {
      "cell_type": "markdown",
      "source": [
        "* 주가를 인공지능으로 예측한다는 것은 현실적으로 불가능에 가깝다라는 어느 경제 학자의 오래된 이야기가 생각난다. \n",
        "* 하지만, 데이터를 이용한 딥러닝 학습에 이만한 예제가 있을까 생각된다.\n",
        "* 삼성전자의 2012년 1월 부터 2012년 12월 14일까지의 데이터를 `야후 파이넨셜` 에서 다운로드 받아 `LSTM` 알고리즘을 통한 주가 예측 딥러닝 모델링을 작성한다\n",
        "* `파이토치(Pytorch)`를 사용한 LSTM 관련 문서를 참조하여 작성하였다.  \n",
        "원본 출처 : https://cnvrg.io/pytorch-lstm/?gclid=Cj0KCQiA6t6ABhDMARIsAONIYyxsIXn6G6EcMLhGnPDxnsKiv3zLU49TRMxsyTPXZmOV3E-Hh4xeI2EaAugLEALw_wcB"
      ],
      "metadata": {
        "id": "xa0dtuKifzmV"
      }
    },
    {
      "cell_type": "code",
      "source": [
        "!sudo apt-get install -y fonts-nanum\n",
        "!sudo fc-cache -fv\n",
        "!rm ~/.cache/matplotlib -rf"
      ],
      "metadata": {
        "colab": {
          "base_uri": "https://localhost:8080/"
        },
        "id": "9L94T6ftOYDY",
        "outputId": "aff8aeb7-69b8-4486-e3e8-a7f63c91df6f"
      },
      "execution_count": 5,
      "outputs": [
        {
          "output_type": "stream",
          "name": "stdout",
          "text": [
            "Reading package lists... Done\n",
            "Building dependency tree       \n",
            "Reading state information... Done\n",
            "The following package was automatically installed and is no longer required:\n",
            "  libnvidia-common-460\n",
            "Use 'sudo apt autoremove' to remove it.\n",
            "The following NEW packages will be installed:\n",
            "  fonts-nanum\n",
            "0 upgraded, 1 newly installed, 0 to remove and 20 not upgraded.\n",
            "Need to get 9,604 kB of archives.\n",
            "After this operation, 29.5 MB of additional disk space will be used.\n",
            "Get:1 http://archive.ubuntu.com/ubuntu bionic/universe amd64 fonts-nanum all 20170925-1 [9,604 kB]\n",
            "Fetched 9,604 kB in 1s (18.0 MB/s)\n",
            "debconf: unable to initialize frontend: Dialog\n",
            "debconf: (No usable dialog-like program is installed, so the dialog based frontend cannot be used. at /usr/share/perl5/Debconf/FrontEnd/Dialog.pm line 76, <> line 1.)\n",
            "debconf: falling back to frontend: Readline\n",
            "debconf: unable to initialize frontend: Readline\n",
            "debconf: (This frontend requires a controlling tty.)\n",
            "debconf: falling back to frontend: Teletype\n",
            "dpkg-preconfigure: unable to re-open stdin: \n",
            "Selecting previously unselected package fonts-nanum.\n",
            "(Reading database ... 124016 files and directories currently installed.)\n",
            "Preparing to unpack .../fonts-nanum_20170925-1_all.deb ...\n",
            "Unpacking fonts-nanum (20170925-1) ...\n",
            "Setting up fonts-nanum (20170925-1) ...\n",
            "Processing triggers for fontconfig (2.12.6-0ubuntu2) ...\n",
            "/usr/share/fonts: caching, new cache contents: 0 fonts, 1 dirs\n",
            "/usr/share/fonts/truetype: caching, new cache contents: 0 fonts, 3 dirs\n",
            "/usr/share/fonts/truetype/humor-sans: caching, new cache contents: 1 fonts, 0 dirs\n",
            "/usr/share/fonts/truetype/liberation: caching, new cache contents: 16 fonts, 0 dirs\n",
            "/usr/share/fonts/truetype/nanum: caching, new cache contents: 10 fonts, 0 dirs\n",
            "/usr/local/share/fonts: caching, new cache contents: 0 fonts, 0 dirs\n",
            "/root/.local/share/fonts: skipping, no such directory\n",
            "/root/.fonts: skipping, no such directory\n",
            "/var/cache/fontconfig: cleaning cache directory\n",
            "/root/.cache/fontconfig: not cleaning non-existent cache directory\n",
            "/root/.fontconfig: not cleaning non-existent cache directory\n",
            "fc-cache: succeeded\n"
          ]
        }
      ]
    },
    {
      "cell_type": "code",
      "source": [
        "import numpy as np\n",
        "import pandas as pd\n",
        "import pandas_datareader.data as pdr\n",
        "import matplotlib.pyplot as plt\n",
        "\n",
        "\n",
        "\n",
        "import datetime\n",
        "\n",
        "import torch\n",
        "import torch.nn as nn\n",
        "from torch.autograd import Variable \n",
        "\n",
        "import torch.optim as optim\n",
        "from torch.utils.data import Dataset, DataLoader"
      ],
      "metadata": {
        "id": "_x27g8gYcqC6"
      },
      "execution_count": 1,
      "outputs": []
    },
    {
      "cell_type": "code",
      "source": [
        "# 한글깨짐 방지지\n",
        "plt.rc('font', family='NanumBarunGothic') "
      ],
      "metadata": {
        "id": "GbeE61YOOkcy"
      },
      "execution_count": 68,
      "outputs": []
    },
    {
      "cell_type": "code",
      "execution_count": 31,
      "metadata": {
        "colab": {
          "base_uri": "https://localhost:8080/"
        },
        "id": "aLzKBZLNatoO",
        "outputId": "e192f854-77b2-4575-be49-9a774d8b123b"
      },
      "outputs": [
        {
          "output_type": "stream",
          "name": "stdout",
          "text": [
            "               Open          High           Low         Close     Adj Close  \\\n",
            "count   2695.000000   2695.000000   2695.000000   2695.000000   2695.000000   \n",
            "mean   43057.395176  43461.243043  42644.478664  43045.703154  38652.386014   \n",
            "std    17902.852552  18046.177797  17752.803949  17880.147465  18804.722204   \n",
            "min    20320.000000  20480.000000  20220.000000  20320.000000  16251.537110   \n",
            "25%    26770.000000  26960.000000  26490.000000  26740.000000  21786.947270   \n",
            "50%    41950.000000  42440.000000  41700.000000  42140.000000  37181.941410   \n",
            "75%    54400.000000  54850.000000  53800.000000  54250.000000  49188.619140   \n",
            "max    90300.000000  96800.000000  89500.000000  91000.000000  87764.796880   \n",
            "\n",
            "             Volume  \n",
            "count  2.695000e+03  \n",
            "mean   1.410899e+07  \n",
            "std    7.224147e+06  \n",
            "min    0.000000e+00  \n",
            "25%    9.591050e+06  \n",
            "50%    1.244584e+07  \n",
            "75%    1.649126e+07  \n",
            "max    9.030618e+07  \n",
            "<class 'pandas.core.frame.DataFrame'>\n",
            "DatetimeIndex: 2695 entries, 2012-01-02 to 2022-12-14\n",
            "Data columns (total 6 columns):\n",
            " #   Column     Non-Null Count  Dtype  \n",
            "---  ------     --------------  -----  \n",
            " 0   Open       2695 non-null   int64  \n",
            " 1   High       2695 non-null   int64  \n",
            " 2   Low        2695 non-null   int64  \n",
            " 3   Close      2695 non-null   int64  \n",
            " 4   Adj Close  2695 non-null   float64\n",
            " 5   Volume     2695 non-null   int64  \n",
            "dtypes: float64(1), int64(5)\n",
            "memory usage: 147.4 KB\n",
            "None\n"
          ]
        }
      ],
      "source": [
        "start = (2012, 1, 1)  # 2012년 01년 01월 ~\n",
        "start = datetime.datetime(*start)  \n",
        "end = datetime.date.today()  # 현재 \n",
        "\n",
        "# yahoo 에서 삼성 전자 불러오기 \n",
        "# df = pdr.DataReader('005930.KS', 'yahoo', start, end)\n",
        "# 야후에서 자동 다운로드가 되지 않는다\n",
        "# Console 링크를 따라가서 csv 파일을 다운로드 받는다다\n",
        "# https://finance.yahoo.com/quote/005930.KS/history?period1=1641009600&period2=1671076799&interval=1d&frequency=1d&filter=history\n",
        "\n",
        "# df = pd.read_csv('005930(2012-01-01).KS.csv')\n",
        "\n",
        "# 날짜 칼럼을 index 로 하여 데이터 만들기\n",
        "df = pd.read_csv('005930(2012-01-01).KS.csv', index_col = 'Date', parse_dates=True)\n",
        "\n",
        "\"\"\"\n",
        "# 불러온 데이터에 유효하지 않은 값이 있는지 확인\n",
        "각 column 의 count 값을 확인하여 count 값이 다른 칼럼보다\n",
        "작으면 해당 칼럼에 NaN 데이터가 존재한다는 것을 알 수 있다.\n",
        "\n",
        "테이블에서는 count 뿐만 아니라, \n",
        "mean / std와 같은 속성들에 대한 종합적인 정보도 제공해 줍니다.\n",
        "\"\"\"\n",
        "print(df.describe())\n",
        "\n",
        "\"\"\"\n",
        ".info()의 메소드를 활용해서도 NaN값이 어느 column에서 빠졌는지 쉽게 확인할 수 있다.\n",
        "\"\"\"\n",
        "print(df.info())\n"
      ]
    },
    {
      "cell_type": "code",
      "source": [
        "# df.head(5)\n",
        "# 끝에서 5개의 데이터 보여주기\n",
        "df.tail(10)"
      ],
      "metadata": {
        "colab": {
          "base_uri": "https://localhost:8080/",
          "height": 394
        },
        "id": "IipPsXx2LFIa",
        "outputId": "256928ee-0c07-498b-dfcd-385f37d39aa6"
      },
      "execution_count": 27,
      "outputs": [
        {
          "output_type": "execute_result",
          "data": {
            "text/plain": [
              "             Open   High    Low  Close  Adj Close    Volume\n",
              "Date                                                       \n",
              "2022-12-01  63100  63200  62300  62600    62600.0  16631445\n",
              "2022-12-02  62500  62500  60400  60400    60400.0  15331184\n",
              "2022-12-05  60900  61100  60000  60300    60300.0  13767787\n",
              "2022-12-06  59800  60100  59200  59200    59200.0  13888300\n",
              "2022-12-07  58800  59600  58500  58900    58900.0  12100662\n",
              "2022-12-08  58700  59200  58600  59200    59200.0  12986815\n",
              "2022-12-09  59300  60600  59300  60400    60400.0  10529632\n",
              "2022-12-12  59900  60000  59400  59500    59500.0   9036472\n",
              "2022-12-13  59600  60300  59400  59700    59700.0   9040873\n",
              "2022-12-14  59800  60600  59800  60300    60300.0   4443728"
            ],
            "text/html": [
              "\n",
              "  <div id=\"df-93ee1eae-5ac4-4e00-bc31-7a933a8500b1\">\n",
              "    <div class=\"colab-df-container\">\n",
              "      <div>\n",
              "<style scoped>\n",
              "    .dataframe tbody tr th:only-of-type {\n",
              "        vertical-align: middle;\n",
              "    }\n",
              "\n",
              "    .dataframe tbody tr th {\n",
              "        vertical-align: top;\n",
              "    }\n",
              "\n",
              "    .dataframe thead th {\n",
              "        text-align: right;\n",
              "    }\n",
              "</style>\n",
              "<table border=\"1\" class=\"dataframe\">\n",
              "  <thead>\n",
              "    <tr style=\"text-align: right;\">\n",
              "      <th></th>\n",
              "      <th>Open</th>\n",
              "      <th>High</th>\n",
              "      <th>Low</th>\n",
              "      <th>Close</th>\n",
              "      <th>Adj Close</th>\n",
              "      <th>Volume</th>\n",
              "    </tr>\n",
              "    <tr>\n",
              "      <th>Date</th>\n",
              "      <th></th>\n",
              "      <th></th>\n",
              "      <th></th>\n",
              "      <th></th>\n",
              "      <th></th>\n",
              "      <th></th>\n",
              "    </tr>\n",
              "  </thead>\n",
              "  <tbody>\n",
              "    <tr>\n",
              "      <th>2022-12-01</th>\n",
              "      <td>63100</td>\n",
              "      <td>63200</td>\n",
              "      <td>62300</td>\n",
              "      <td>62600</td>\n",
              "      <td>62600.0</td>\n",
              "      <td>16631445</td>\n",
              "    </tr>\n",
              "    <tr>\n",
              "      <th>2022-12-02</th>\n",
              "      <td>62500</td>\n",
              "      <td>62500</td>\n",
              "      <td>60400</td>\n",
              "      <td>60400</td>\n",
              "      <td>60400.0</td>\n",
              "      <td>15331184</td>\n",
              "    </tr>\n",
              "    <tr>\n",
              "      <th>2022-12-05</th>\n",
              "      <td>60900</td>\n",
              "      <td>61100</td>\n",
              "      <td>60000</td>\n",
              "      <td>60300</td>\n",
              "      <td>60300.0</td>\n",
              "      <td>13767787</td>\n",
              "    </tr>\n",
              "    <tr>\n",
              "      <th>2022-12-06</th>\n",
              "      <td>59800</td>\n",
              "      <td>60100</td>\n",
              "      <td>59200</td>\n",
              "      <td>59200</td>\n",
              "      <td>59200.0</td>\n",
              "      <td>13888300</td>\n",
              "    </tr>\n",
              "    <tr>\n",
              "      <th>2022-12-07</th>\n",
              "      <td>58800</td>\n",
              "      <td>59600</td>\n",
              "      <td>58500</td>\n",
              "      <td>58900</td>\n",
              "      <td>58900.0</td>\n",
              "      <td>12100662</td>\n",
              "    </tr>\n",
              "    <tr>\n",
              "      <th>2022-12-08</th>\n",
              "      <td>58700</td>\n",
              "      <td>59200</td>\n",
              "      <td>58600</td>\n",
              "      <td>59200</td>\n",
              "      <td>59200.0</td>\n",
              "      <td>12986815</td>\n",
              "    </tr>\n",
              "    <tr>\n",
              "      <th>2022-12-09</th>\n",
              "      <td>59300</td>\n",
              "      <td>60600</td>\n",
              "      <td>59300</td>\n",
              "      <td>60400</td>\n",
              "      <td>60400.0</td>\n",
              "      <td>10529632</td>\n",
              "    </tr>\n",
              "    <tr>\n",
              "      <th>2022-12-12</th>\n",
              "      <td>59900</td>\n",
              "      <td>60000</td>\n",
              "      <td>59400</td>\n",
              "      <td>59500</td>\n",
              "      <td>59500.0</td>\n",
              "      <td>9036472</td>\n",
              "    </tr>\n",
              "    <tr>\n",
              "      <th>2022-12-13</th>\n",
              "      <td>59600</td>\n",
              "      <td>60300</td>\n",
              "      <td>59400</td>\n",
              "      <td>59700</td>\n",
              "      <td>59700.0</td>\n",
              "      <td>9040873</td>\n",
              "    </tr>\n",
              "    <tr>\n",
              "      <th>2022-12-14</th>\n",
              "      <td>59800</td>\n",
              "      <td>60600</td>\n",
              "      <td>59800</td>\n",
              "      <td>60300</td>\n",
              "      <td>60300.0</td>\n",
              "      <td>4443728</td>\n",
              "    </tr>\n",
              "  </tbody>\n",
              "</table>\n",
              "</div>\n",
              "      <button class=\"colab-df-convert\" onclick=\"convertToInteractive('df-93ee1eae-5ac4-4e00-bc31-7a933a8500b1')\"\n",
              "              title=\"Convert this dataframe to an interactive table.\"\n",
              "              style=\"display:none;\">\n",
              "        \n",
              "  <svg xmlns=\"http://www.w3.org/2000/svg\" height=\"24px\"viewBox=\"0 0 24 24\"\n",
              "       width=\"24px\">\n",
              "    <path d=\"M0 0h24v24H0V0z\" fill=\"none\"/>\n",
              "    <path d=\"M18.56 5.44l.94 2.06.94-2.06 2.06-.94-2.06-.94-.94-2.06-.94 2.06-2.06.94zm-11 1L8.5 8.5l.94-2.06 2.06-.94-2.06-.94L8.5 2.5l-.94 2.06-2.06.94zm10 10l.94 2.06.94-2.06 2.06-.94-2.06-.94-.94-2.06-.94 2.06-2.06.94z\"/><path d=\"M17.41 7.96l-1.37-1.37c-.4-.4-.92-.59-1.43-.59-.52 0-1.04.2-1.43.59L10.3 9.45l-7.72 7.72c-.78.78-.78 2.05 0 2.83L4 21.41c.39.39.9.59 1.41.59.51 0 1.02-.2 1.41-.59l7.78-7.78 2.81-2.81c.8-.78.8-2.07 0-2.86zM5.41 20L4 18.59l7.72-7.72 1.47 1.35L5.41 20z\"/>\n",
              "  </svg>\n",
              "      </button>\n",
              "      \n",
              "  <style>\n",
              "    .colab-df-container {\n",
              "      display:flex;\n",
              "      flex-wrap:wrap;\n",
              "      gap: 12px;\n",
              "    }\n",
              "\n",
              "    .colab-df-convert {\n",
              "      background-color: #E8F0FE;\n",
              "      border: none;\n",
              "      border-radius: 50%;\n",
              "      cursor: pointer;\n",
              "      display: none;\n",
              "      fill: #1967D2;\n",
              "      height: 32px;\n",
              "      padding: 0 0 0 0;\n",
              "      width: 32px;\n",
              "    }\n",
              "\n",
              "    .colab-df-convert:hover {\n",
              "      background-color: #E2EBFA;\n",
              "      box-shadow: 0px 1px 2px rgba(60, 64, 67, 0.3), 0px 1px 3px 1px rgba(60, 64, 67, 0.15);\n",
              "      fill: #174EA6;\n",
              "    }\n",
              "\n",
              "    [theme=dark] .colab-df-convert {\n",
              "      background-color: #3B4455;\n",
              "      fill: #D2E3FC;\n",
              "    }\n",
              "\n",
              "    [theme=dark] .colab-df-convert:hover {\n",
              "      background-color: #434B5C;\n",
              "      box-shadow: 0px 1px 3px 1px rgba(0, 0, 0, 0.15);\n",
              "      filter: drop-shadow(0px 1px 2px rgba(0, 0, 0, 0.3));\n",
              "      fill: #FFFFFF;\n",
              "    }\n",
              "  </style>\n",
              "\n",
              "      <script>\n",
              "        const buttonEl =\n",
              "          document.querySelector('#df-93ee1eae-5ac4-4e00-bc31-7a933a8500b1 button.colab-df-convert');\n",
              "        buttonEl.style.display =\n",
              "          google.colab.kernel.accessAllowed ? 'block' : 'none';\n",
              "\n",
              "        async function convertToInteractive(key) {\n",
              "          const element = document.querySelector('#df-93ee1eae-5ac4-4e00-bc31-7a933a8500b1');\n",
              "          const dataTable =\n",
              "            await google.colab.kernel.invokeFunction('convertToInteractive',\n",
              "                                                     [key], {});\n",
              "          if (!dataTable) return;\n",
              "\n",
              "          const docLinkHtml = 'Like what you see? Visit the ' +\n",
              "            '<a target=\"_blank\" href=https://colab.research.google.com/notebooks/data_table.ipynb>data table notebook</a>'\n",
              "            + ' to learn more about interactive tables.';\n",
              "          element.innerHTML = '';\n",
              "          dataTable['output_type'] = 'display_data';\n",
              "          await google.colab.output.renderOutput(dataTable, element);\n",
              "          const docLink = document.createElement('div');\n",
              "          docLink.innerHTML = docLinkHtml;\n",
              "          element.appendChild(docLink);\n",
              "        }\n",
              "      </script>\n",
              "    </div>\n",
              "  </div>\n",
              "  "
            ]
          },
          "metadata": {},
          "execution_count": 27
        }
      ]
    },
    {
      "cell_type": "code",
      "source": [
        "plt.style.use('ggplot')\n",
        "# 종가 기준으로 그래프 그리기\n",
        "df['Close'].plot(label='종가', title='삼성전자 주가')"
      ],
      "metadata": {
        "colab": {
          "base_uri": "https://localhost:8080/",
          "height": 457
        },
        "id": "F2pPboQqv1vy",
        "outputId": "5a1ebacf-effa-48ca-b2bd-d44f2259d8e8"
      },
      "execution_count": 32,
      "outputs": [
        {
          "output_type": "execute_result",
          "data": {
            "text/plain": [
              "<matplotlib.axes._subplots.AxesSubplot at 0x7f88faa73b50>"
            ]
          },
          "metadata": {},
          "execution_count": 32
        },
        {
          "output_type": "display_data",
          "data": {
            "text/plain": [
              "<Figure size 640x480 with 1 Axes>"
            ],
            "image/png": "[encoded data removed]"
          },
          "metadata": {}
        }
      ]
    },
    {
      "cell_type": "code",
      "source": [
        "# 종가 기준으로 그래프 그리기\n",
        "plt.style.use('classic')\n",
        "df.Close.plot(grid=True)"
      ],
      "metadata": {
        "colab": {
          "base_uri": "https://localhost:8080/",
          "height": 444
        },
        "id": "IFQezRGFvmIQ",
        "outputId": "22dc8242-abb7-4f87-9b10-3b0f22f6b986"
      },
      "execution_count": 36,
      "outputs": [
        {
          "output_type": "execute_result",
          "data": {
            "text/plain": [
              "<matplotlib.axes._subplots.AxesSubplot at 0x7f88fa814580>"
            ]
          },
          "metadata": {},
          "execution_count": 36
        },
        {
          "output_type": "display_data",
          "data": {
            "text/plain": [
              "<Figure size 640x480 with 1 Axes>"
            ],
            "image/png": "[encoded data removed]"
          },
          "metadata": {}
        }
      ]
    },
    {
      "cell_type": "code",
      "source": [
        "\"\"\"\n",
        "파일에 있는 데이터의 각 항목은 다음과 같다\n",
        "open 시가\n",
        "high 고가\n",
        "low 저가\n",
        "close 종가\n",
        "volume 거래량\n",
        "Adj Close 주식의 분할, 배당, 배분 등을 고려해 조정한 종가\n",
        "\n",
        "여기에서 거래량(Volume)은 데이터에서 삭제를 하고,\n",
        "X 값으로는 Volume 이 제거된 데이터를 담고\n",
        "y 값으로 Adj Close(종가)를 담는다.\n",
        "\"\"\"\n",
        "# X = df.drop(columns='Volume')\n",
        "# y = df.iloc[:, 5:6]\n",
        "\n",
        "X = df.iloc[:, :-2]\n",
        "\n",
        "# 날짜와 종가데이터만 추출\n",
        "y = df.iloc[:, 3:4] \n",
        "\n",
        "print(X)\n",
        "print(y)"
      ],
      "metadata": {
        "colab": {
          "base_uri": "https://localhost:8080/"
        },
        "id": "EU0YyI0PgFSd",
        "outputId": "f22de958-64f6-42a6-b3f8-14adff60ec1e"
      },
      "execution_count": 45,
      "outputs": [
        {
          "output_type": "stream",
          "name": "stdout",
          "text": [
            "             Open   High    Low  Close\n",
            "Date                                  \n",
            "2012-01-02  21400  21600  21300  21600\n",
            "2012-01-03  21860  22100  21840  22100\n",
            "2012-01-04  22100  22200  21500  21600\n",
            "2012-01-05  21460  21580  21100  21100\n",
            "2012-01-06  21120  21320  20600  20800\n",
            "...           ...    ...    ...    ...\n",
            "2022-12-08  58700  59200  58600  59200\n",
            "2022-12-09  59300  60600  59300  60400\n",
            "2022-12-12  59900  60000  59400  59500\n",
            "2022-12-13  59600  60300  59400  59700\n",
            "2022-12-14  59800  60600  59800  60300\n",
            "\n",
            "[2695 rows x 4 columns]\n",
            "            Close\n",
            "Date             \n",
            "2012-01-02  21600\n",
            "2012-01-03  22100\n",
            "2012-01-04  21600\n",
            "2012-01-05  21100\n",
            "2012-01-06  20800\n",
            "...           ...\n",
            "2022-12-08  59200\n",
            "2022-12-09  60400\n",
            "2022-12-12  59500\n",
            "2022-12-13  59700\n",
            "2022-12-14  60300\n",
            "\n",
            "[2695 rows x 1 columns]\n"
          ]
        }
      ]
    },
    {
      "cell_type": "code",
      "source": [
        "\"\"\"\n",
        "학습이 잘되기 위해 데이터를 정규화 한다.\n",
        "StandardScaler : 각 특징의 평균을 0, 분산을 1이 되도록 변경한다\n",
        "MinMaxScaler : 최대/최소값이 각각 1, 0이 되도록 변경\n",
        "\"\"\"\n",
        "from sklearn.preprocessing import StandardScaler, MinMaxScaler\n",
        "mm = MinMaxScaler()\n",
        "ss = StandardScaler()\n",
        "\n",
        "# 이렇게 하면 데이터 세트가 변환되고 크기가 조정됩니다.\n",
        "X_ss = ss.fit_transform(X)\n",
        "y_mm = mm.fit_transform(y) \n",
        "\n",
        "# 학습데이터 추출\n",
        "\"\"\"\n",
        "다음은 데이터 세트를 두 부분으로 나눈다.\n",
        "1은 교육용이고 다른 부분은 값을 테스트하기 위한 것이다. \n",
        "순차 데이터이고 순서가 중요하므로 처음 2200(약 80%)개 행을 학습용으로, \n",
        "나머지 행을 데이터 테스트용으로 사용한다. \n",
        "\"\"\"\n",
        "X_train = X_ss[:2500, :]\n",
        "X_test = X_ss[2500:, :]\n",
        "\n",
        "# 테스트(예측)용 데이터 추출\n",
        "\"\"\"\n",
        "( 굳이 없어도 된다. 하지만 얼마나 예측데이터와 실제 데이터의 정확도를 확인하기 위해 \n",
        "from sklearn.metrics import accuracy_score 를 통해 정확한 값으로 확인할 수 있다. )\n",
        "\"\"\"\n",
        "y_train = y_mm[:2500, :]\n",
        "y_test = y_mm[2500:, :] \n",
        "\n",
        "# 확인을 위해 교육 및 테스트 데이터 셰이프를 인쇄\n",
        "print(\"Training Shape\", X_train.shape , y_train.shape)\n",
        "print(\"Testing Shape\", X_test.shape, y_test.shape) "
      ],
      "metadata": {
        "colab": {
          "base_uri": "https://localhost:8080/"
        },
        "id": "28BAa9W-getB",
        "outputId": "3f313eee-46a0-437a-eb5c-067a99556ee9"
      },
      "execution_count": 94,
      "outputs": [
        {
          "output_type": "stream",
          "name": "stdout",
          "text": [
            "Training Shape (2500, 4) (2500, 1)\n",
            "Testing Shape (195, 4) (195, 1)\n"
          ]
        }
      ]
    },
    {
      "cell_type": "code",
      "source": [
        "\"\"\"\n",
        "PyTorch에서 프로그래밍하는 경우 PyTorch에서 다루는 모든 것은 \n",
        "numpy의 강력한 버전으로 생각할 수 있는 텐서라는 것을 알아야 한다.\n",
        "따라서 데이터 세트를 텐서로 변환해야 한다\n",
        "\"\"\"\n",
        "X_train_tensors = Variable(torch.Tensor(X_train))\n",
        "X_test_tensors = Variable(torch.Tensor(X_test))\n",
        "\n",
        "y_train_tensors = Variable(torch.Tensor(y_train))\n",
        "y_test_tensors = Variable(torch.Tensor(y_test)) \n",
        "\n",
        "\"\"\"\n",
        "이제 다음 단계는 LSTM의 입력 형식을 확인하는 것이다.\n",
        "즉, LSTM은 순차 데이터용으로 특별히 제작되었기 때문에 \n",
        "단순한 2차원 데이터를 입력으로 사용할 수 없다. \n",
        "우리가 각 타임스탬프에 입력이 필요하다고 논의한 것처럼 \n",
        "그들도 타임스탬프 정보를 가지고 있어야 한다. \n",
        "데이터 세트를 변환해 보자\n",
        "\"\"\"\n",
        "\n",
        "X_train_tensors_final = torch.reshape(X_train_tensors,   (X_train_tensors.shape[0], 1, X_train_tensors.shape[1]))\n",
        "X_test_tensors_final = torch.reshape(X_test_tensors,  (X_test_tensors.shape[0], 1, X_test_tensors.shape[1])) \n",
        "\n",
        "print(\"Training Shape\", X_train_tensors_final.shape, y_train_tensors.shape)\n",
        "print(\"Testing Shape\", X_test_tensors_final.shape, y_test_tensors.shape) "
      ],
      "metadata": {
        "colab": {
          "base_uri": "https://localhost:8080/"
        },
        "id": "1z07PXlPswH_",
        "outputId": "7ae571f7-97c5-4aac-96b8-83bf700f94e3"
      },
      "execution_count": 95,
      "outputs": [
        {
          "output_type": "stream",
          "name": "stdout",
          "text": [
            "Training Shape torch.Size([2500, 1, 4]) torch.Size([2500, 1])\n",
            "Testing Shape torch.Size([195, 1, 4]) torch.Size([195, 1])\n"
          ]
        }
      ]
    },
    {
      "cell_type": "code",
      "source": [
        "device = torch.device(\"cuda:0\" if torch.cuda.is_available() else \"cpu\")  # device\n",
        "# print(torch.cuda.get_device_name(0))"
      ],
      "metadata": {
        "id": "rJRgPTvxs0y_"
      },
      "execution_count": 107,
      "outputs": []
    },
    {
      "cell_type": "code",
      "source": [
        "\"\"\"\n",
        "이제 학습할 준비가 되었다. \n",
        "이제 LSTM 모델을 만들 차례이다. \n",
        "PyTorch는 훨씬 더 파이썬적이기 때문에 PyTorch의 모든 모델은 \n",
        "nn.Module 슈퍼클래스에서 상속되어야 한다.\n",
        "\n",
        "\n",
        "여기에서 모든 중요한 변수와 레이어를 정의한다. \n",
        "다음으로 (hidden_size를 통해) 서로 겹쳐진 동일한 하이퍼파라미터가 있는 \n",
        "2개의 LSTM 레이어를 사용하고, \n",
        "2개의 완전 연결 레이어, ReLU 레이어 및 일부 도우미 변수를 정의한다.\n",
        "다음으로 LSTM의 순방향 패스를 정의한다.\n",
        "\n",
        "\"\"\"\n",
        "class LSTM1(nn.Module):\n",
        "  def __init__(self, num_classes, input_size, hidden_size, num_layers, seq_length):\n",
        "    super(LSTM1, self).__init__()\n",
        "    self.num_classes = num_classes #number of classes\n",
        "    self.num_layers = num_layers #number of layers\n",
        "    self.input_size = input_size #input size\n",
        "    self.hidden_size = hidden_size #hidden state\n",
        "    self.seq_length = seq_length #sequence length\n",
        " \n",
        "    self.lstm = nn.LSTM(input_size=input_size, hidden_size=hidden_size,\n",
        "                      num_layers=num_layers, batch_first=True) #lstm\n",
        "    self.fc_1 =  nn.Linear(hidden_size, 128) #fully connected 1\n",
        "    self.fc = nn.Linear(128, num_classes) #fully connected last layer\n",
        "\n",
        "    self.relu = nn.ReLU() \n",
        "\n",
        "  def forward(self,x):\n",
        "    h_0 = Variable(torch.zeros(self.num_layers, x.size(0), self.hidden_size)).to(device) #hidden state\n",
        "    c_0 = Variable(torch.zeros(self.num_layers, x.size(0), self.hidden_size)).to(device) #internal state   \n",
        "    # Propagate input through LSTM\n",
        "\n",
        "    output, (hn, cn) = self.lstm(x, (h_0, c_0)) #lstm with input, hidden, and internal state\n",
        "   \n",
        "    hn = hn.view(-1, self.hidden_size) #reshaping the data for Dense layer next\n",
        "    out = self.relu(hn)\n",
        "    out = self.fc_1(out) #first Dense\n",
        "    out = self.relu(out) #relu\n",
        "    out = self.fc(out) #Final Output\n",
        "   \n",
        "    return out \n",
        "\n"
      ],
      "metadata": {
        "id": "3ss3GhCqtHQt"
      },
      "execution_count": 108,
      "outputs": []
    },
    {
      "cell_type": "markdown",
      "source": [
        "여기에서 숨겨진 상태와 내부 상태를 먼저 정의하고 0으로 초기화했다.\n",
        "우선 현재 타임스탬프 t의 입력과 함께 숨겨진 상태와 내부 상태를 LSTM에 전달할 것이다.\n",
        "그러면 새로운 숨겨진 상태, 현재 상태 및 출력이 반환된다 \n",
        "출력이 Dense Layer로 전달될 수 있도록 모양을 변경한다. \n",
        "다음으로 간단히 활성화를 적용하고 고밀도 레이어에 전달한 다음 출력을 반환한다.   \n",
        "\n",
        "이것은 Forward Pass와 LSTM1 클래스를 완성한다. \n",
        "런타임 시 모델을 교육하는 동안 backpropagation logic을 적용한다"
      ],
      "metadata": {
        "id": "rZ9m5sJFPVAH"
      }
    },
    {
      "cell_type": "code",
      "source": [
        "num_epochs = 1000 #1000 epochs\n",
        "learning_rate = 0.001 #0.001 lr\n",
        "\n",
        "input_size = 4 #number of features\n",
        "hidden_size = 5 #number of features in hidden state\n",
        "num_layers = 1 #number of stacked lstm layers\n",
        "\n",
        "num_classes = 1 #number of output classes "
      ],
      "metadata": {
        "id": "oOH485dttKsS"
      },
      "execution_count": 121,
      "outputs": []
    },
    {
      "cell_type": "code",
      "source": [
        "# 위에서 선언한 LSTM 클래스를  사용하여 객체 생성\n",
        "lstm1 = LSTM1(num_classes, input_size, hidden_size, num_layers, X_train_tensors_final.shape[1]) \n",
        "\n",
        "# mean-squared error for regression\n",
        "criterion = torch.nn.MSELoss()    \n",
        "\n",
        "optimizer = torch.optim.Adam(lstm1.parameters(), lr=learning_rate) \n",
        "\n",
        "print(num_epochs)\n",
        "print(criterion)\n",
        "print(optimizer)\n"
      ],
      "metadata": {
        "colab": {
          "base_uri": "https://localhost:8080/"
        },
        "id": "L9EsHlJ7tNXA",
        "outputId": "db6e3268-2cff-4254-f213-23fd1811b4be"
      },
      "execution_count": 122,
      "outputs": [
        {
          "output_type": "stream",
          "name": "stdout",
          "text": [
            "1000\n",
            "MSELoss()\n",
            "Adam (\n",
            "Parameter Group 0\n",
            "    amsgrad: False\n",
            "    betas: (0.9, 0.999)\n",
            "    capturable: False\n",
            "    differentiable: False\n",
            "    eps: 1e-08\n",
            "    foreach: None\n",
            "    fused: False\n",
            "    lr: 0.001\n",
            "    maximize: False\n",
            "    weight_decay: 0\n",
            ")\n"
          ]
        }
      ]
    },
    {
      "cell_type": "code",
      "source": [
        "print(X_train_tensors_final)"
      ],
      "metadata": {
        "colab": {
          "base_uri": "https://localhost:8080/"
        },
        "id": "KZpUuKihGW9h",
        "outputId": "236217fe-7cc1-4890-9c24-7100256de437"
      },
      "execution_count": 53,
      "outputs": [
        {
          "output_type": "stream",
          "name": "stdout",
          "text": [
            "tensor([[[-1.2099, -1.2116, -1.2025, -1.1996]],\n",
            "\n",
            "        [[-1.1842, -1.1839, -1.1721, -1.1717]],\n",
            "\n",
            "        [[-1.1708, -1.1784, -1.1913, -1.1996]],\n",
            "\n",
            "        ...,\n",
            "\n",
            "        [[ 1.6393,  1.6649,  1.6482,  1.6700]],\n",
            "\n",
            "        [[ 1.6281,  1.6316,  1.6313,  1.6029]],\n",
            "\n",
            "        [[ 1.6225,  1.6870,  1.6539,  1.7259]]])\n"
          ]
        }
      ]
    },
    {
      "cell_type": "code",
      "source": [
        "# 학습하기\n",
        "for epoch in range(num_epochs):\n",
        "  outputs = lstm1.forward(X_train_tensors_final) #forward pass\n",
        "  optimizer.zero_grad() #caluclate the gradient, manually setting to 0\n",
        " \n",
        "  # obtain the loss function\n",
        "  loss = criterion(outputs, y_train_tensors)\n",
        " \n",
        "  loss.backward() #calculates the loss of the loss function\n",
        " \n",
        "  optimizer.step() #improve from loss, i.e backprop\n",
        "  if epoch % 100 == 0:\n",
        "    print(\"Epoch: %d, loss: %1.5f\" % (epoch, loss.item())) "
      ],
      "metadata": {
        "colab": {
          "base_uri": "https://localhost:8080/"
        },
        "id": "CxF7JfEItQB2",
        "outputId": "e740d320-db25-490e-e24d-b1c6358865da"
      },
      "execution_count": 123,
      "outputs": [
        {
          "output_type": "stream",
          "name": "stdout",
          "text": [
            "Epoch: 0, loss: 0.08527\n",
            "Epoch: 100, loss: 0.00282\n",
            "Epoch: 200, loss: 0.00069\n",
            "Epoch: 300, loss: 0.00011\n",
            "Epoch: 400, loss: 0.00005\n",
            "Epoch: 500, loss: 0.00003\n",
            "Epoch: 600, loss: 0.00002\n",
            "Epoch: 700, loss: 0.00002\n",
            "Epoch: 800, loss: 0.00002\n",
            "Epoch: 900, loss: 0.00002\n"
          ]
        }
      ]
    },
    {
      "cell_type": "code",
      "source": [
        "\"\"\"\n",
        "손실이 적고 성능이 좋다는 것을 알 수 있습니다. 데이터 세트에 대한 예측을 플로팅하여 성능을 확인하겠습니다.\n",
        "\"\"\"\n",
        "\n",
        "df_X_ss = ss.transform(df.iloc[:, :-2]) #old transformers\n",
        "df_y_mm = mm.transform(df.iloc[:, -3:-2]) #old transformers\n",
        "\n",
        "df_X_ss = Variable(torch.Tensor(df_X_ss)) #converting to Tensors\n",
        "df_y_mm = Variable(torch.Tensor(df_y_mm))\n",
        "#reshaping the dataset\n",
        "df_X_ss = torch.reshape(df_X_ss, (df_X_ss.shape[0], 1, df_X_ss.shape[1])) \n"
      ],
      "metadata": {
        "id": "Ng2-rwDJtsO3"
      },
      "execution_count": 124,
      "outputs": []
    },
    {
      "cell_type": "code",
      "source": [
        "train_predict = lstm1(df_X_ss)#forward pass\n",
        "data_predict = train_predict.data.numpy() #numpy conversion\n",
        "dataY_plot = df_y_mm.data.numpy()\n",
        "\n",
        "data_predict = mm.inverse_transform(data_predict) #reverse transformation\n",
        "dataY_plot = mm.inverse_transform(dataY_plot)\n",
        "plt.figure(figsize=(10,7)) #plotting\n",
        "plt.axvline(x=2500, c='r', linestyle='--') #size of the training set\n",
        "\n",
        "plt.plot(dataY_plot, label='실제 데이터') #actual plot\n",
        "plt.plot(data_predict, label='예측데이터터') #predicted plot\n",
        "plt.title('삼성전자 주가 예측')\n",
        "plt.legend()\n",
        "plt.show() \n",
        "# 더 작은 데이터 세트를 사용함에도 불구하고 모델이 꽤 잘 수행되고 있음을 알 수 있습니다"
      ],
      "metadata": {
        "colab": {
          "base_uri": "https://localhost:8080/",
          "height": 518
        },
        "id": "bU2W2POo0bkO",
        "outputId": "ca56b8e8-c30c-4e30-d18e-afccb9c4efbb"
      },
      "execution_count": 125,
      "outputs": [
        {
          "output_type": "display_data",
          "data": {
            "text/plain": [
              "<Figure size 800x560 with 1 Axes>"
            ],
            "image/png": "[encoded data removed]"
          },
          "metadata": {}
        }
      ]
    }
  ]
}