{
  "nbformat": 4,
  "nbformat_minor": 0,
  "metadata": {
    "colab": {
      "provenance": [],
      "authorship_tag": "ABX9TyMkYOictosL70gJkLG7ZkoS",
      "include_colab_link": true
    },
    "kernelspec": {
      "name": "python3",
      "display_name": "Python 3"
    },
    "language_info": {
      "name": "python"
    }
  },
  "cells": [
    {
      "cell_type": "markdown",
      "metadata": {
        "id": "view-in-github",
        "colab_type": "text"
      },
      "source": [
        "<a href=\"https://colab.research.google.com/github/callor/Callor-DeepLearning-2022/blob/master/%EC%82%BC%EC%84%B1%EC%A0%84%EC%9E%90%EC%A3%BC%EA%B0%80%EC%98%88%EC%B8%A1_v2.ipynb\" target=\"_parent\"><img src=\"https://colab.research.google.com/assets/colab-badge.svg\" alt=\"Open In Colab\"/></a>"
      ]
    },
    {
      "cell_type": "code",
      "execution_count": 1,
      "metadata": {
        "id": "SDJuVyydsgtR"
      },
      "outputs": [],
      "source": [
        "import numpy as np # linear algebra\n",
        "import pandas as pd # data processing, CSV file I/O (e.g. pd.read_csv)\n",
        "import matplotlib.pyplot as plt\n",
        "import seaborn as sns"
      ]
    },
    {
      "cell_type": "code",
      "source": [
        "stocks =  pd.read_csv('005930(2012-01-01).KS.csv', header=0)\n",
        "stocks"
      ],
      "metadata": {
        "colab": {
          "base_uri": "https://localhost:8080/",
          "height": 424
        },
        "id": "HNI00gX-tLxz",
        "outputId": "0868359b-da0c-4668-e6ba-6b1e74c8b2ef"
      },
      "execution_count": 21,
      "outputs": [
        {
          "output_type": "execute_result",
          "data": {
            "text/plain": [
              "            Date   Open   High    Low  Close    Adj Close    Volume\n",
              "0     2012-01-02  21400  21600  21300  21600  17275.26367  13151350\n",
              "1     2012-01-03  21860  22100  21840  22100  17675.15430  16927750\n",
              "2     2012-01-04  22100  22200  21500  21600  17275.26367  17103700\n",
              "3     2012-01-05  21460  21580  21100  21100  16875.36914  17298400\n",
              "4     2012-01-06  21120  21320  20600  20800  16635.43359  18816250\n",
              "...          ...    ...    ...    ...    ...          ...       ...\n",
              "2690  2022-12-08  58700  59200  58600  59200  59200.00000  12986815\n",
              "2691  2022-12-09  59300  60600  59300  60400  60400.00000  10529632\n",
              "2692  2022-12-12  59900  60000  59400  59500  59500.00000   9036472\n",
              "2693  2022-12-13  59600  60300  59400  59700  59700.00000   9040873\n",
              "2694  2022-12-14  59800  60600  59800  60300  60300.00000   4443728\n",
              "\n",
              "[2695 rows x 7 columns]"
            ],
            "text/html": [
              "\n",
              "  <div id=\"df-9ab5b3ec-3ac3-4c96-80a7-c1dbfbe36019\">\n",
              "    <div class=\"colab-df-container\">\n",
              "      <div>\n",
              "<style scoped>\n",
              "    .dataframe tbody tr th:only-of-type {\n",
              "        vertical-align: middle;\n",
              "    }\n",
              "\n",
              "    .dataframe tbody tr th {\n",
              "        vertical-align: top;\n",
              "    }\n",
              "\n",
              "    .dataframe thead th {\n",
              "        text-align: right;\n",
              "    }\n",
              "</style>\n",
              "<table border=\"1\" class=\"dataframe\">\n",
              "  <thead>\n",
              "    <tr style=\"text-align: right;\">\n",
              "      <th></th>\n",
              "      <th>Date</th>\n",
              "      <th>Open</th>\n",
              "      <th>High</th>\n",
              "      <th>Low</th>\n",
              "      <th>Close</th>\n",
              "      <th>Adj Close</th>\n",
              "      <th>Volume</th>\n",
              "    </tr>\n",
              "  </thead>\n",
              "  <tbody>\n",
              "    <tr>\n",
              "      <th>0</th>\n",
              "      <td>2012-01-02</td>\n",
              "      <td>21400</td>\n",
              "      <td>21600</td>\n",
              "      <td>21300</td>\n",
              "      <td>21600</td>\n",
              "      <td>17275.26367</td>\n",
              "      <td>13151350</td>\n",
              "    </tr>\n",
              "    <tr>\n",
              "      <th>1</th>\n",
              "      <td>2012-01-03</td>\n",
              "      <td>21860</td>\n",
              "      <td>22100</td>\n",
              "      <td>21840</td>\n",
              "      <td>22100</td>\n",
              "      <td>17675.15430</td>\n",
              "      <td>16927750</td>\n",
              "    </tr>\n",
              "    <tr>\n",
              "      <th>2</th>\n",
              "      <td>2012-01-04</td>\n",
              "      <td>22100</td>\n",
              "      <td>22200</td>\n",
              "      <td>21500</td>\n",
              "      <td>21600</td>\n",
              "      <td>17275.26367</td>\n",
              "      <td>17103700</td>\n",
              "    </tr>\n",
              "    <tr>\n",
              "      <th>3</th>\n",
              "      <td>2012-01-05</td>\n",
              "      <td>21460</td>\n",
              "      <td>21580</td>\n",
              "      <td>21100</td>\n",
              "      <td>21100</td>\n",
              "      <td>16875.36914</td>\n",
              "      <td>17298400</td>\n",
              "    </tr>\n",
              "    <tr>\n",
              "      <th>4</th>\n",
              "      <td>2012-01-06</td>\n",
              "      <td>21120</td>\n",
              "      <td>21320</td>\n",
              "      <td>20600</td>\n",
              "      <td>20800</td>\n",
              "      <td>16635.43359</td>\n",
              "      <td>18816250</td>\n",
              "    </tr>\n",
              "    <tr>\n",
              "      <th>...</th>\n",
              "      <td>...</td>\n",
              "      <td>...</td>\n",
              "      <td>...</td>\n",
              "      <td>...</td>\n",
              "      <td>...</td>\n",
              "      <td>...</td>\n",
              "      <td>...</td>\n",
              "    </tr>\n",
              "    <tr>\n",
              "      <th>2690</th>\n",
              "      <td>2022-12-08</td>\n",
              "      <td>58700</td>\n",
              "      <td>59200</td>\n",
              "      <td>58600</td>\n",
              "      <td>59200</td>\n",
              "      <td>59200.00000</td>\n",
              "      <td>12986815</td>\n",
              "    </tr>\n",
              "    <tr>\n",
              "      <th>2691</th>\n",
              "      <td>2022-12-09</td>\n",
              "      <td>59300</td>\n",
              "      <td>60600</td>\n",
              "      <td>59300</td>\n",
              "      <td>60400</td>\n",
              "      <td>60400.00000</td>\n",
              "      <td>10529632</td>\n",
              "    </tr>\n",
              "    <tr>\n",
              "      <th>2692</th>\n",
              "      <td>2022-12-12</td>\n",
              "      <td>59900</td>\n",
              "      <td>60000</td>\n",
              "      <td>59400</td>\n",
              "      <td>59500</td>\n",
              "      <td>59500.00000</td>\n",
              "      <td>9036472</td>\n",
              "    </tr>\n",
              "    <tr>\n",
              "      <th>2693</th>\n",
              "      <td>2022-12-13</td>\n",
              "      <td>59600</td>\n",
              "      <td>60300</td>\n",
              "      <td>59400</td>\n",
              "      <td>59700</td>\n",
              "      <td>59700.00000</td>\n",
              "      <td>9040873</td>\n",
              "    </tr>\n",
              "    <tr>\n",
              "      <th>2694</th>\n",
              "      <td>2022-12-14</td>\n",
              "      <td>59800</td>\n",
              "      <td>60600</td>\n",
              "      <td>59800</td>\n",
              "      <td>60300</td>\n",
              "      <td>60300.00000</td>\n",
              "      <td>4443728</td>\n",
              "    </tr>\n",
              "  </tbody>\n",
              "</table>\n",
              "<p>2695 rows × 7 columns</p>\n",
              "</div>\n",
              "      <button class=\"colab-df-convert\" onclick=\"convertToInteractive('df-9ab5b3ec-3ac3-4c96-80a7-c1dbfbe36019')\"\n",
              "              title=\"Convert this dataframe to an interactive table.\"\n",
              "              style=\"display:none;\">\n",
              "        \n",
              "  <svg xmlns=\"http://www.w3.org/2000/svg\" height=\"24px\"viewBox=\"0 0 24 24\"\n",
              "       width=\"24px\">\n",
              "    <path d=\"M0 0h24v24H0V0z\" fill=\"none\"/>\n",
              "    <path d=\"M18.56 5.44l.94 2.06.94-2.06 2.06-.94-2.06-.94-.94-2.06-.94 2.06-2.06.94zm-11 1L8.5 8.5l.94-2.06 2.06-.94-2.06-.94L8.5 2.5l-.94 2.06-2.06.94zm10 10l.94 2.06.94-2.06 2.06-.94-2.06-.94-.94-2.06-.94 2.06-2.06.94z\"/><path d=\"M17.41 7.96l-1.37-1.37c-.4-.4-.92-.59-1.43-.59-.52 0-1.04.2-1.43.59L10.3 9.45l-7.72 7.72c-.78.78-.78 2.05 0 2.83L4 21.41c.39.39.9.59 1.41.59.51 0 1.02-.2 1.41-.59l7.78-7.78 2.81-2.81c.8-.78.8-2.07 0-2.86zM5.41 20L4 18.59l7.72-7.72 1.47 1.35L5.41 20z\"/>\n",
              "  </svg>\n",
              "      </button>\n",
              "      \n",
              "  <style>\n",
              "    .colab-df-container {\n",
              "      display:flex;\n",
              "      flex-wrap:wrap;\n",
              "      gap: 12px;\n",
              "    }\n",
              "\n",
              "    .colab-df-convert {\n",
              "      background-color: #E8F0FE;\n",
              "      border: none;\n",
              "      border-radius: 50%;\n",
              "      cursor: pointer;\n",
              "      display: none;\n",
              "      fill: #1967D2;\n",
              "      height: 32px;\n",
              "      padding: 0 0 0 0;\n",
              "      width: 32px;\n",
              "    }\n",
              "\n",
              "    .colab-df-convert:hover {\n",
              "      background-color: #E2EBFA;\n",
              "      box-shadow: 0px 1px 2px rgba(60, 64, 67, 0.3), 0px 1px 3px 1px rgba(60, 64, 67, 0.15);\n",
              "      fill: #174EA6;\n",
              "    }\n",
              "\n",
              "    [theme=dark] .colab-df-convert {\n",
              "      background-color: #3B4455;\n",
              "      fill: #D2E3FC;\n",
              "    }\n",
              "\n",
              "    [theme=dark] .colab-df-convert:hover {\n",
              "      background-color: #434B5C;\n",
              "      box-shadow: 0px 1px 3px 1px rgba(0, 0, 0, 0.15);\n",
              "      filter: drop-shadow(0px 1px 2px rgba(0, 0, 0, 0.3));\n",
              "      fill: #FFFFFF;\n",
              "    }\n",
              "  </style>\n",
              "\n",
              "      <script>\n",
              "        const buttonEl =\n",
              "          document.querySelector('#df-9ab5b3ec-3ac3-4c96-80a7-c1dbfbe36019 button.colab-df-convert');\n",
              "        buttonEl.style.display =\n",
              "          google.colab.kernel.accessAllowed ? 'block' : 'none';\n",
              "\n",
              "        async function convertToInteractive(key) {\n",
              "          const element = document.querySelector('#df-9ab5b3ec-3ac3-4c96-80a7-c1dbfbe36019');\n",
              "          const dataTable =\n",
              "            await google.colab.kernel.invokeFunction('convertToInteractive',\n",
              "                                                     [key], {});\n",
              "          if (!dataTable) return;\n",
              "\n",
              "          const docLinkHtml = 'Like what you see? Visit the ' +\n",
              "            '<a target=\"_blank\" href=https://colab.research.google.com/notebooks/data_table.ipynb>data table notebook</a>'\n",
              "            + ' to learn more about interactive tables.';\n",
              "          element.innerHTML = '';\n",
              "          dataTable['output_type'] = 'display_data';\n",
              "          await google.colab.output.renderOutput(dataTable, element);\n",
              "          const docLink = document.createElement('div');\n",
              "          docLink.innerHTML = docLinkHtml;\n",
              "          element.appendChild(docLink);\n",
              "        }\n",
              "      </script>\n",
              "    </div>\n",
              "  </div>\n",
              "  "
            ]
          },
          "metadata": {},
          "execution_count": 21
        }
      ]
    },
    {
      "cell_type": "markdown",
      "source": [
        " 데이터 전처리 및 시각화"
      ],
      "metadata": {
        "id": "1e-ytgsmtW2a"
      }
    },
    {
      "cell_type": "code",
      "source": [
        "# 날짜 칼럼 format 설정\n",
        "stocks['Date'] = pd.to_datetime(stocks['Date'], format='%Y-%m-%d')\n",
        "# stocks['Year'] = stocks['Date'].dt.year\n",
        "stocks = stocks.drop(columns='Adj Close')\n",
        "stocks"
      ],
      "metadata": {
        "colab": {
          "base_uri": "https://localhost:8080/",
          "height": 424
        },
        "id": "LV8TX-Y0tZWQ",
        "outputId": "c659a26e-4a8f-4219-eee0-c8735b9c2c61"
      },
      "execution_count": 49,
      "outputs": [
        {
          "output_type": "execute_result",
          "data": {
            "text/plain": [
              "           Date   Open   High    Low  Close    Volume\n",
              "0    2012-01-02  21400  21600  21300  21600  13151350\n",
              "1    2012-01-03  21860  22100  21840  22100  16927750\n",
              "2    2012-01-04  22100  22200  21500  21600  17103700\n",
              "3    2012-01-05  21460  21580  21100  21100  17298400\n",
              "4    2012-01-06  21120  21320  20600  20800  18816250\n",
              "...         ...    ...    ...    ...    ...       ...\n",
              "2690 2022-12-08  58700  59200  58600  59200  12986815\n",
              "2691 2022-12-09  59300  60600  59300  60400  10529632\n",
              "2692 2022-12-12  59900  60000  59400  59500   9036472\n",
              "2693 2022-12-13  59600  60300  59400  59700   9040873\n",
              "2694 2022-12-14  59800  60600  59800  60300   4443728\n",
              "\n",
              "[2695 rows x 6 columns]"
            ],
            "text/html": [
              "\n",
              "  <div id=\"df-37f85b3f-ee95-421f-b9b1-97f76d67bf50\">\n",
              "    <div class=\"colab-df-container\">\n",
              "      <div>\n",
              "<style scoped>\n",
              "    .dataframe tbody tr th:only-of-type {\n",
              "        vertical-align: middle;\n",
              "    }\n",
              "\n",
              "    .dataframe tbody tr th {\n",
              "        vertical-align: top;\n",
              "    }\n",
              "\n",
              "    .dataframe thead th {\n",
              "        text-align: right;\n",
              "    }\n",
              "</style>\n",
              "<table border=\"1\" class=\"dataframe\">\n",
              "  <thead>\n",
              "    <tr style=\"text-align: right;\">\n",
              "      <th></th>\n",
              "      <th>Date</th>\n",
              "      <th>Open</th>\n",
              "      <th>High</th>\n",
              "      <th>Low</th>\n",
              "      <th>Close</th>\n",
              "      <th>Volume</th>\n",
              "    </tr>\n",
              "  </thead>\n",
              "  <tbody>\n",
              "    <tr>\n",
              "      <th>0</th>\n",
              "      <td>2012-01-02</td>\n",
              "      <td>21400</td>\n",
              "      <td>21600</td>\n",
              "      <td>21300</td>\n",
              "      <td>21600</td>\n",
              "      <td>13151350</td>\n",
              "    </tr>\n",
              "    <tr>\n",
              "      <th>1</th>\n",
              "      <td>2012-01-03</td>\n",
              "      <td>21860</td>\n",
              "      <td>22100</td>\n",
              "      <td>21840</td>\n",
              "      <td>22100</td>\n",
              "      <td>16927750</td>\n",
              "    </tr>\n",
              "    <tr>\n",
              "      <th>2</th>\n",
              "      <td>2012-01-04</td>\n",
              "      <td>22100</td>\n",
              "      <td>22200</td>\n",
              "      <td>21500</td>\n",
              "      <td>21600</td>\n",
              "      <td>17103700</td>\n",
              "    </tr>\n",
              "    <tr>\n",
              "      <th>3</th>\n",
              "      <td>2012-01-05</td>\n",
              "      <td>21460</td>\n",
              "      <td>21580</td>\n",
              "      <td>21100</td>\n",
              "      <td>21100</td>\n",
              "      <td>17298400</td>\n",
              "    </tr>\n",
              "    <tr>\n",
              "      <th>4</th>\n",
              "      <td>2012-01-06</td>\n",
              "      <td>21120</td>\n",
              "      <td>21320</td>\n",
              "      <td>20600</td>\n",
              "      <td>20800</td>\n",
              "      <td>18816250</td>\n",
              "    </tr>\n",
              "    <tr>\n",
              "      <th>...</th>\n",
              "      <td>...</td>\n",
              "      <td>...</td>\n",
              "      <td>...</td>\n",
              "      <td>...</td>\n",
              "      <td>...</td>\n",
              "      <td>...</td>\n",
              "    </tr>\n",
              "    <tr>\n",
              "      <th>2690</th>\n",
              "      <td>2022-12-08</td>\n",
              "      <td>58700</td>\n",
              "      <td>59200</td>\n",
              "      <td>58600</td>\n",
              "      <td>59200</td>\n",
              "      <td>12986815</td>\n",
              "    </tr>\n",
              "    <tr>\n",
              "      <th>2691</th>\n",
              "      <td>2022-12-09</td>\n",
              "      <td>59300</td>\n",
              "      <td>60600</td>\n",
              "      <td>59300</td>\n",
              "      <td>60400</td>\n",
              "      <td>10529632</td>\n",
              "    </tr>\n",
              "    <tr>\n",
              "      <th>2692</th>\n",
              "      <td>2022-12-12</td>\n",
              "      <td>59900</td>\n",
              "      <td>60000</td>\n",
              "      <td>59400</td>\n",
              "      <td>59500</td>\n",
              "      <td>9036472</td>\n",
              "    </tr>\n",
              "    <tr>\n",
              "      <th>2693</th>\n",
              "      <td>2022-12-13</td>\n",
              "      <td>59600</td>\n",
              "      <td>60300</td>\n",
              "      <td>59400</td>\n",
              "      <td>59700</td>\n",
              "      <td>9040873</td>\n",
              "    </tr>\n",
              "    <tr>\n",
              "      <th>2694</th>\n",
              "      <td>2022-12-14</td>\n",
              "      <td>59800</td>\n",
              "      <td>60600</td>\n",
              "      <td>59800</td>\n",
              "      <td>60300</td>\n",
              "      <td>4443728</td>\n",
              "    </tr>\n",
              "  </tbody>\n",
              "</table>\n",
              "<p>2695 rows × 6 columns</p>\n",
              "</div>\n",
              "      <button class=\"colab-df-convert\" onclick=\"convertToInteractive('df-37f85b3f-ee95-421f-b9b1-97f76d67bf50')\"\n",
              "              title=\"Convert this dataframe to an interactive table.\"\n",
              "              style=\"display:none;\">\n",
              "        \n",
              "  <svg xmlns=\"http://www.w3.org/2000/svg\" height=\"24px\"viewBox=\"0 0 24 24\"\n",
              "       width=\"24px\">\n",
              "    <path d=\"M0 0h24v24H0V0z\" fill=\"none\"/>\n",
              "    <path d=\"M18.56 5.44l.94 2.06.94-2.06 2.06-.94-2.06-.94-.94-2.06-.94 2.06-2.06.94zm-11 1L8.5 8.5l.94-2.06 2.06-.94-2.06-.94L8.5 2.5l-.94 2.06-2.06.94zm10 10l.94 2.06.94-2.06 2.06-.94-2.06-.94-.94-2.06-.94 2.06-2.06.94z\"/><path d=\"M17.41 7.96l-1.37-1.37c-.4-.4-.92-.59-1.43-.59-.52 0-1.04.2-1.43.59L10.3 9.45l-7.72 7.72c-.78.78-.78 2.05 0 2.83L4 21.41c.39.39.9.59 1.41.59.51 0 1.02-.2 1.41-.59l7.78-7.78 2.81-2.81c.8-.78.8-2.07 0-2.86zM5.41 20L4 18.59l7.72-7.72 1.47 1.35L5.41 20z\"/>\n",
              "  </svg>\n",
              "      </button>\n",
              "      \n",
              "  <style>\n",
              "    .colab-df-container {\n",
              "      display:flex;\n",
              "      flex-wrap:wrap;\n",
              "      gap: 12px;\n",
              "    }\n",
              "\n",
              "    .colab-df-convert {\n",
              "      background-color: #E8F0FE;\n",
              "      border: none;\n",
              "      border-radius: 50%;\n",
              "      cursor: pointer;\n",
              "      display: none;\n",
              "      fill: #1967D2;\n",
              "      height: 32px;\n",
              "      padding: 0 0 0 0;\n",
              "      width: 32px;\n",
              "    }\n",
              "\n",
              "    .colab-df-convert:hover {\n",
              "      background-color: #E2EBFA;\n",
              "      box-shadow: 0px 1px 2px rgba(60, 64, 67, 0.3), 0px 1px 3px 1px rgba(60, 64, 67, 0.15);\n",
              "      fill: #174EA6;\n",
              "    }\n",
              "\n",
              "    [theme=dark] .colab-df-convert {\n",
              "      background-color: #3B4455;\n",
              "      fill: #D2E3FC;\n",
              "    }\n",
              "\n",
              "    [theme=dark] .colab-df-convert:hover {\n",
              "      background-color: #434B5C;\n",
              "      box-shadow: 0px 1px 3px 1px rgba(0, 0, 0, 0.15);\n",
              "      filter: drop-shadow(0px 1px 2px rgba(0, 0, 0, 0.3));\n",
              "      fill: #FFFFFF;\n",
              "    }\n",
              "  </style>\n",
              "\n",
              "      <script>\n",
              "        const buttonEl =\n",
              "          document.querySelector('#df-37f85b3f-ee95-421f-b9b1-97f76d67bf50 button.colab-df-convert');\n",
              "        buttonEl.style.display =\n",
              "          google.colab.kernel.accessAllowed ? 'block' : 'none';\n",
              "\n",
              "        async function convertToInteractive(key) {\n",
              "          const element = document.querySelector('#df-37f85b3f-ee95-421f-b9b1-97f76d67bf50');\n",
              "          const dataTable =\n",
              "            await google.colab.kernel.invokeFunction('convertToInteractive',\n",
              "                                                     [key], {});\n",
              "          if (!dataTable) return;\n",
              "\n",
              "          const docLinkHtml = 'Like what you see? Visit the ' +\n",
              "            '<a target=\"_blank\" href=https://colab.research.google.com/notebooks/data_table.ipynb>data table notebook</a>'\n",
              "            + ' to learn more about interactive tables.';\n",
              "          element.innerHTML = '';\n",
              "          dataTable['output_type'] = 'display_data';\n",
              "          await google.colab.output.renderOutput(dataTable, element);\n",
              "          const docLink = document.createElement('div');\n",
              "          docLink.innerHTML = docLinkHtml;\n",
              "          element.appendChild(docLink);\n",
              "        }\n",
              "      </script>\n",
              "    </div>\n",
              "  </div>\n",
              "  "
            ]
          },
          "metadata": {},
          "execution_count": 49
        }
      ]
    },
    {
      "cell_type": "code",
      "source": [
        "plt.figure(figsize=(16, 9))\n",
        "sns.lineplot(y=stocks['Volume'], x=stocks['Date']).set(title='Samsung Electronics Stocks')\n",
        "plt.xlabel('Date')\n",
        "plt.ylabel('Volumn')"
      ],
      "metadata": {
        "colab": {
          "base_uri": "https://localhost:8080/",
          "height": 435
        },
        "id": "GTe-m52ltzKO",
        "outputId": "631b9a6e-bf90-4a82-d3c7-351d99c36808"
      },
      "execution_count": 50,
      "outputs": [
        {
          "output_type": "execute_result",
          "data": {
            "text/plain": [
              "Text(0, 0.5, 'Volumn')"
            ]
          },
          "metadata": {},
          "execution_count": 50
        },
        {
          "output_type": "display_data",
          "data": {
            "text/plain": [
              "<Figure size 1152x648 with 1 Axes>"
            ],
            "image/png": "[encoded data removed]"
          },
          "metadata": {
            "needs_background": "light"
          }
        }
      ]
    },
    {
      "cell_type": "markdown",
      "source": [
        "2021-1월 89000원대로 주가가 치솟을때  거래량이 피크를 이뤘다다"
      ],
      "metadata": {
        "id": "DNm5XwVV9ioi"
      }
    },
    {
      "cell_type": "code",
      "source": [
        "plt.figure(figsize=(16, 9))\n",
        "sns.lineplot(y=stocks['Close'], x=stocks['Date']).set(title='Samsung Electronics Stocks')\n",
        "plt.xlabel('Date')\n",
        "plt.ylabel('Price')"
      ],
      "metadata": {
        "colab": {
          "base_uri": "https://localhost:8080/",
          "height": 425
        },
        "id": "5f0De_uUuMOw",
        "outputId": "b2ea98ff-2d5b-45b4-8332-6821055b68ec"
      },
      "execution_count": 52,
      "outputs": [
        {
          "output_type": "execute_result",
          "data": {
            "text/plain": [
              "Text(0, 0.5, 'Price')"
            ]
          },
          "metadata": {},
          "execution_count": 52
        },
        {
          "output_type": "display_data",
          "data": {
            "text/plain": [
              "<Figure size 1152x648 with 1 Axes>"
            ],
            "image/png": "[encoded data removed]"
          },
          "metadata": {
            "needs_background": "light"
          }
        }
      ]
    },
    {
      "cell_type": "markdown",
      "source": [
        "- 2021-01 경 89000원대까지 치솟았던 적이 있었다\n",
        "\n",
        "# 데이터 정규화\n",
        "- 이제 데이터 정규화를 진행하도록 한다."
      ],
      "metadata": {
        "id": "7ycFusnFv8X4"
      }
    },
    {
      "cell_type": "code",
      "source": [
        "# sklearn 의 MinxMaxScaler 함수를 사용하여 데이터 정규화를 실행한다\n",
        "from sklearn.preprocessing import MinMaxScaler\n",
        "stocks.sort_index(ascending=False).reset_index(drop=True)\n",
        "scaler = MinMaxScaler()\n",
        "\n",
        "# 시가, 고가, 저가, 종가, 거래량\n",
        "scale_cols = ['Open', 'High', 'Low', 'Close', 'Volume']\n",
        "df_scaled = scaler.fit_transform(stocks[scale_cols])\n",
        "df_scaled = pd.DataFrame(df_scaled)\n",
        "df_scaled.columns = scale_cols\n",
        "\n",
        "df_scaled"
      ],
      "metadata": {
        "colab": {
          "base_uri": "https://localhost:8080/",
          "height": 424
        },
        "id": "n4s2rz62v6Qi",
        "outputId": "e1d0a408-b953-41fc-e7bf-15fc5ae5dd51"
      },
      "execution_count": 55,
      "outputs": [
        {
          "output_type": "execute_result",
          "data": {
            "text/plain": [
              "          Open      High       Low     Close    Volume\n",
              "0     0.015433  0.014675  0.015589  0.018110  0.145631\n",
              "1     0.022006  0.021226  0.023383  0.025184  0.187448\n",
              "2     0.025436  0.022537  0.018476  0.018110  0.189397\n",
              "3     0.016290  0.014413  0.012702  0.011036  0.191553\n",
              "4     0.011432  0.011006  0.005485  0.006791  0.208361\n",
              "...        ...       ...       ...       ...       ...\n",
              "2690  0.548442  0.507338  0.553984  0.550085  0.143809\n",
              "2691  0.557016  0.525681  0.564088  0.567063  0.116599\n",
              "2692  0.565590  0.517820  0.565531  0.554329  0.100065\n",
              "2693  0.561303  0.521751  0.565531  0.557159  0.100114\n",
              "2694  0.564161  0.525681  0.571305  0.565648  0.049207\n",
              "\n",
              "[2695 rows x 5 columns]"
            ],
            "text/html": [
              "\n",
              "  <div id=\"df-d425b29e-d71a-41b5-955f-f43c73cc8967\">\n",
              "    <div class=\"colab-df-container\">\n",
              "      <div>\n",
              "<style scoped>\n",
              "    .dataframe tbody tr th:only-of-type {\n",
              "        vertical-align: middle;\n",
              "    }\n",
              "\n",
              "    .dataframe tbody tr th {\n",
              "        vertical-align: top;\n",
              "    }\n",
              "\n",
              "    .dataframe thead th {\n",
              "        text-align: right;\n",
              "    }\n",
              "</style>\n",
              "<table border=\"1\" class=\"dataframe\">\n",
              "  <thead>\n",
              "    <tr style=\"text-align: right;\">\n",
              "      <th></th>\n",
              "      <th>Open</th>\n",
              "      <th>High</th>\n",
              "      <th>Low</th>\n",
              "      <th>Close</th>\n",
              "      <th>Volume</th>\n",
              "    </tr>\n",
              "  </thead>\n",
              "  <tbody>\n",
              "    <tr>\n",
              "      <th>0</th>\n",
              "      <td>0.015433</td>\n",
              "      <td>0.014675</td>\n",
              "      <td>0.015589</td>\n",
              "      <td>0.018110</td>\n",
              "      <td>0.145631</td>\n",
              "    </tr>\n",
              "    <tr>\n",
              "      <th>1</th>\n",
              "      <td>0.022006</td>\n",
              "      <td>0.021226</td>\n",
              "      <td>0.023383</td>\n",
              "      <td>0.025184</td>\n",
              "      <td>0.187448</td>\n",
              "    </tr>\n",
              "    <tr>\n",
              "      <th>2</th>\n",
              "      <td>0.025436</td>\n",
              "      <td>0.022537</td>\n",
              "      <td>0.018476</td>\n",
              "      <td>0.018110</td>\n",
              "      <td>0.189397</td>\n",
              "    </tr>\n",
              "    <tr>\n",
              "      <th>3</th>\n",
              "      <td>0.016290</td>\n",
              "      <td>0.014413</td>\n",
              "      <td>0.012702</td>\n",
              "      <td>0.011036</td>\n",
              "      <td>0.191553</td>\n",
              "    </tr>\n",
              "    <tr>\n",
              "      <th>4</th>\n",
              "      <td>0.011432</td>\n",
              "      <td>0.011006</td>\n",
              "      <td>0.005485</td>\n",
              "      <td>0.006791</td>\n",
              "      <td>0.208361</td>\n",
              "    </tr>\n",
              "    <tr>\n",
              "      <th>...</th>\n",
              "      <td>...</td>\n",
              "      <td>...</td>\n",
              "      <td>...</td>\n",
              "      <td>...</td>\n",
              "      <td>...</td>\n",
              "    </tr>\n",
              "    <tr>\n",
              "      <th>2690</th>\n",
              "      <td>0.548442</td>\n",
              "      <td>0.507338</td>\n",
              "      <td>0.553984</td>\n",
              "      <td>0.550085</td>\n",
              "      <td>0.143809</td>\n",
              "    </tr>\n",
              "    <tr>\n",
              "      <th>2691</th>\n",
              "      <td>0.557016</td>\n",
              "      <td>0.525681</td>\n",
              "      <td>0.564088</td>\n",
              "      <td>0.567063</td>\n",
              "      <td>0.116599</td>\n",
              "    </tr>\n",
              "    <tr>\n",
              "      <th>2692</th>\n",
              "      <td>0.565590</td>\n",
              "      <td>0.517820</td>\n",
              "      <td>0.565531</td>\n",
              "      <td>0.554329</td>\n",
              "      <td>0.100065</td>\n",
              "    </tr>\n",
              "    <tr>\n",
              "      <th>2693</th>\n",
              "      <td>0.561303</td>\n",
              "      <td>0.521751</td>\n",
              "      <td>0.565531</td>\n",
              "      <td>0.557159</td>\n",
              "      <td>0.100114</td>\n",
              "    </tr>\n",
              "    <tr>\n",
              "      <th>2694</th>\n",
              "      <td>0.564161</td>\n",
              "      <td>0.525681</td>\n",
              "      <td>0.571305</td>\n",
              "      <td>0.565648</td>\n",
              "      <td>0.049207</td>\n",
              "    </tr>\n",
              "  </tbody>\n",
              "</table>\n",
              "<p>2695 rows × 5 columns</p>\n",
              "</div>\n",
              "      <button class=\"colab-df-convert\" onclick=\"convertToInteractive('df-d425b29e-d71a-41b5-955f-f43c73cc8967')\"\n",
              "              title=\"Convert this dataframe to an interactive table.\"\n",
              "              style=\"display:none;\">\n",
              "        \n",
              "  <svg xmlns=\"http://www.w3.org/2000/svg\" height=\"24px\"viewBox=\"0 0 24 24\"\n",
              "       width=\"24px\">\n",
              "    <path d=\"M0 0h24v24H0V0z\" fill=\"none\"/>\n",
              "    <path d=\"M18.56 5.44l.94 2.06.94-2.06 2.06-.94-2.06-.94-.94-2.06-.94 2.06-2.06.94zm-11 1L8.5 8.5l.94-2.06 2.06-.94-2.06-.94L8.5 2.5l-.94 2.06-2.06.94zm10 10l.94 2.06.94-2.06 2.06-.94-2.06-.94-.94-2.06-.94 2.06-2.06.94z\"/><path d=\"M17.41 7.96l-1.37-1.37c-.4-.4-.92-.59-1.43-.59-.52 0-1.04.2-1.43.59L10.3 9.45l-7.72 7.72c-.78.78-.78 2.05 0 2.83L4 21.41c.39.39.9.59 1.41.59.51 0 1.02-.2 1.41-.59l7.78-7.78 2.81-2.81c.8-.78.8-2.07 0-2.86zM5.41 20L4 18.59l7.72-7.72 1.47 1.35L5.41 20z\"/>\n",
              "  </svg>\n",
              "      </button>\n",
              "      \n",
              "  <style>\n",
              "    .colab-df-container {\n",
              "      display:flex;\n",
              "      flex-wrap:wrap;\n",
              "      gap: 12px;\n",
              "    }\n",
              "\n",
              "    .colab-df-convert {\n",
              "      background-color: #E8F0FE;\n",
              "      border: none;\n",
              "      border-radius: 50%;\n",
              "      cursor: pointer;\n",
              "      display: none;\n",
              "      fill: #1967D2;\n",
              "      height: 32px;\n",
              "      padding: 0 0 0 0;\n",
              "      width: 32px;\n",
              "    }\n",
              "\n",
              "    .colab-df-convert:hover {\n",
              "      background-color: #E2EBFA;\n",
              "      box-shadow: 0px 1px 2px rgba(60, 64, 67, 0.3), 0px 1px 3px 1px rgba(60, 64, 67, 0.15);\n",
              "      fill: #174EA6;\n",
              "    }\n",
              "\n",
              "    [theme=dark] .colab-df-convert {\n",
              "      background-color: #3B4455;\n",
              "      fill: #D2E3FC;\n",
              "    }\n",
              "\n",
              "    [theme=dark] .colab-df-convert:hover {\n",
              "      background-color: #434B5C;\n",
              "      box-shadow: 0px 1px 3px 1px rgba(0, 0, 0, 0.15);\n",
              "      filter: drop-shadow(0px 1px 2px rgba(0, 0, 0, 0.3));\n",
              "      fill: #FFFFFF;\n",
              "    }\n",
              "  </style>\n",
              "\n",
              "      <script>\n",
              "        const buttonEl =\n",
              "          document.querySelector('#df-d425b29e-d71a-41b5-955f-f43c73cc8967 button.colab-df-convert');\n",
              "        buttonEl.style.display =\n",
              "          google.colab.kernel.accessAllowed ? 'block' : 'none';\n",
              "\n",
              "        async function convertToInteractive(key) {\n",
              "          const element = document.querySelector('#df-d425b29e-d71a-41b5-955f-f43c73cc8967');\n",
              "          const dataTable =\n",
              "            await google.colab.kernel.invokeFunction('convertToInteractive',\n",
              "                                                     [key], {});\n",
              "          if (!dataTable) return;\n",
              "\n",
              "          const docLinkHtml = 'Like what you see? Visit the ' +\n",
              "            '<a target=\"_blank\" href=https://colab.research.google.com/notebooks/data_table.ipynb>data table notebook</a>'\n",
              "            + ' to learn more about interactive tables.';\n",
              "          element.innerHTML = '';\n",
              "          dataTable['output_type'] = 'display_data';\n",
              "          await google.colab.output.renderOutput(dataTable, element);\n",
              "          const docLink = document.createElement('div');\n",
              "          docLink.innerHTML = docLinkHtml;\n",
              "          element.appendChild(docLink);\n",
              "        }\n",
              "      </script>\n",
              "    </div>\n",
              "  </div>\n",
              "  "
            ]
          },
          "metadata": {},
          "execution_count": 55
        }
      ]
    },
    {
      "cell_type": "markdown",
      "source": [
        "시계열 데이터의 데이터셋 분리\n",
        "시계열 데이터의 데이터셋은 보통 window_size라고 정의한다.\n",
        "window_size는 과거 기간의 주가 데이터에 기반하여 다음날의 종가를 예측할 것인가를 정하는 parameter이다.\n",
        "만약 과거 20일을 기반으로 내일 데이터를 예측한다라고 가정하면 window_size=20이 되는 것이다.\n",
        "실제 100일의 과거 데이터를 기반으로 데이터셋을 분리하도록 한다.\n",
        "이 때, make_dataset이라는 함수를 만든다.\n",
        "feature_list & label list를 분리한다."
      ],
      "metadata": {
        "id": "Q5POxlWywela"
      }
    },
    {
      "cell_type": "code",
      "source": [
        "TEST_SIZE = 2200\n",
        "\n",
        "train = df_scaled[:-TEST_SIZE]\n",
        "test = df_scaled[-TEST_SIZE:]"
      ],
      "metadata": {
        "colab": {
          "base_uri": "https://localhost:8080/"
        },
        "id": "mw8VvRbQwiKs",
        "outputId": "516a350d-b78a-464f-d070-441c2d4e4e50"
      },
      "execution_count": 31,
      "outputs": [
        {
          "output_type": "stream",
          "name": "stdout",
          "text": [
            "2695 2200 20\n",
            "(495, 5) (2200, 5)\n"
          ]
        }
      ]
    },
    {
      "cell_type": "code",
      "source": [
        "def make_dataset(data, label, window_size=20):\n",
        "    feature_list = []\n",
        "    label_list = []\n",
        "    for i in range(len(data) - window_size):\n",
        "        feature_list.append(np.array(data.iloc[i:i+window_size]))\n",
        "        label_list.append(np.array(label.iloc[i+window_size]))\n",
        "    return np.array(feature_list), np.array(label_list)"
      ],
      "metadata": {
        "id": "EYZ65KvmwlKV"
      },
      "execution_count": 32,
      "outputs": []
    },
    {
      "cell_type": "code",
      "source": [
        "from sklearn.model_selection import train_test_split\n",
        "\n",
        "# Open\tHigh\tLow\tClose\tAdj Close\tVolume\tYear\n",
        "feature_cols = ['Open', 'High', 'Low', 'Volume']\n",
        "label_cols = ['Adj Close']\n",
        "\n",
        "train_feature = train[feature_cols]\n",
        "train_label = train[label_cols]\n",
        "\n",
        "train_feature, train_label = make_dataset(train_feature, train_label, 20)\n",
        "\n",
        "x_train, x_valid, y_train, y_valid = train_test_split(train_feature, train_label, test_size=0.2)\n",
        "x_train.shape, x_valid.shape"
      ],
      "metadata": {
        "colab": {
          "base_uri": "https://localhost:8080/"
        },
        "id": "dSOCmsrcwn-0",
        "outputId": "f42e23d7-4abd-450c-c193-6dfd618a1ea9"
      },
      "execution_count": 46,
      "outputs": [
        {
          "output_type": "execute_result",
          "data": {
            "text/plain": [
              "((380, 20, 4), (95, 20, 4))"
            ]
          },
          "metadata": {},
          "execution_count": 46
        }
      ]
    },
    {
      "cell_type": "code",
      "source": [
        "test_feature = test[feature_cols]\n",
        "test_label = test[label_cols]\n",
        "\n",
        "test_feature.shape, test_label.shape"
      ],
      "metadata": {
        "colab": {
          "base_uri": "https://localhost:8080/"
        },
        "id": "i8h47vpiw2uK",
        "outputId": "6e51a20d-36f1-42b2-b95b-72492b939473"
      },
      "execution_count": 35,
      "outputs": [
        {
          "output_type": "execute_result",
          "data": {
            "text/plain": [
              "((2200, 4), (2200, 1))"
            ]
          },
          "metadata": {},
          "execution_count": 35
        }
      ]
    },
    {
      "cell_type": "code",
      "source": [
        "test_feature, test_label = make_dataset(test_feature, test_label, 20)\n",
        "test_feature.shape, test_label.shape"
      ],
      "metadata": {
        "colab": {
          "base_uri": "https://localhost:8080/"
        },
        "id": "pgGqVMFhw5ks",
        "outputId": "bd3c2c8a-a942-488f-aa9b-de064246559b"
      },
      "execution_count": 36,
      "outputs": [
        {
          "output_type": "execute_result",
          "data": {
            "text/plain": [
              "((2180, 20, 4), (2180, 1))"
            ]
          },
          "metadata": {},
          "execution_count": 36
        }
      ]
    },
    {
      "cell_type": "markdown",
      "source": [
        "모형 학습\n",
        "이제 Keras 모형을 생성하여 학습을 진행합니다.\n",
        "먼저 모형을 만듭니다."
      ],
      "metadata": {
        "id": "w0mUVsQEw8lG"
      }
    },
    {
      "cell_type": "code",
      "source": [
        "from keras.models import Sequential\n",
        "from keras.layers import Dense\n",
        "from keras.callbacks import EarlyStopping, ModelCheckpoint\n",
        "from keras.layers import LSTM\n",
        "\n",
        "model = Sequential()\n",
        "model.add(LSTM(16, \n",
        "               input_shape=(train_feature.shape[1], train_feature.shape[2]), \n",
        "               activation='relu', \n",
        "               return_sequences=False)\n",
        "          )\n",
        "\n",
        "model.add(Dense(1))"
      ],
      "metadata": {
        "id": "E4DjqIyzw_Bt"
      },
      "execution_count": 37,
      "outputs": []
    },
    {
      "cell_type": "markdown",
      "source": [
        "학습하기기"
      ],
      "metadata": {
        "id": "57DaTU8-xEMG"
      }
    },
    {
      "cell_type": "code",
      "source": [
        "import os\n",
        "\n",
        "model.compile(loss='mean_squared_error', optimizer='adam')\n",
        "early_stop = EarlyStopping(monitor='val_loss', patience=5)\n",
        "\n",
        "model_path = 'model'\n",
        "filename = os.path.join(model_path, 'tmp_checkpoint.h5')\n",
        "checkpoint = ModelCheckpoint(filename, monitor='val_loss', verbose=1, save_best_only=True, mode='auto')\n",
        "\n",
        "history = model.fit(x_train, y_train, \n",
        "             epochs=100, \n",
        "             batch_size=16,\n",
        "             validation_data=(x_valid, y_valid), \n",
        "             callbacks=[early_stop, checkpoint])"
      ],
      "metadata": {
        "colab": {
          "base_uri": "https://localhost:8080/"
        },
        "id": "GfZaK7zZxFuR",
        "outputId": "f0942c0d-3d4c-4fe0-851f-3442fa9baca9"
      },
      "execution_count": 39,
      "outputs": [
        {
          "output_type": "stream",
          "name": "stdout",
          "text": [
            "Epoch 1/100\n",
            "20/24 [========================>.....] - ETA: 0s - loss: 7.5170e-05\n",
            "Epoch 1: val_loss improved from inf to 0.00007, saving model to model/tmp_checkpoint.h5\n",
            "24/24 [==============================] - 2s 22ms/step - loss: 7.2789e-05 - val_loss: 6.7947e-05\n",
            "Epoch 2/100\n",
            "24/24 [==============================] - ETA: 0s - loss: 6.7251e-05\n",
            "Epoch 2: val_loss improved from 0.00007 to 0.00006, saving model to model/tmp_checkpoint.h5\n",
            "24/24 [==============================] - 0s 9ms/step - loss: 6.7251e-05 - val_loss: 6.2325e-05\n",
            "Epoch 3/100\n",
            "21/24 [=========================>....] - ETA: 0s - loss: 6.9893e-05\n",
            "Epoch 3: val_loss did not improve from 0.00006\n",
            "24/24 [==============================] - 0s 9ms/step - loss: 7.0869e-05 - val_loss: 9.9275e-05\n",
            "Epoch 4/100\n",
            "19/24 [======================>.......] - ETA: 0s - loss: 7.6742e-05\n",
            "Epoch 4: val_loss improved from 0.00006 to 0.00006, saving model to model/tmp_checkpoint.h5\n",
            "24/24 [==============================] - 0s 11ms/step - loss: 7.5088e-05 - val_loss: 6.0537e-05\n",
            "Epoch 5/100\n",
            "21/24 [=========================>....] - ETA: 0s - loss: 6.2463e-05\n",
            "Epoch 5: val_loss improved from 0.00006 to 0.00006, saving model to model/tmp_checkpoint.h5\n",
            "24/24 [==============================] - 0s 10ms/step - loss: 6.0516e-05 - val_loss: 5.9032e-05\n",
            "Epoch 6/100\n",
            "21/24 [=========================>....] - ETA: 0s - loss: 6.2126e-05\n",
            "Epoch 6: val_loss improved from 0.00006 to 0.00006, saving model to model/tmp_checkpoint.h5\n",
            "24/24 [==============================] - 0s 10ms/step - loss: 6.1039e-05 - val_loss: 5.8796e-05\n",
            "Epoch 7/100\n",
            "21/24 [=========================>....] - ETA: 0s - loss: 6.5586e-05\n",
            "Epoch 7: val_loss improved from 0.00006 to 0.00006, saving model to model/tmp_checkpoint.h5\n",
            "24/24 [==============================] - 0s 10ms/step - loss: 6.3118e-05 - val_loss: 5.7555e-05\n",
            "Epoch 8/100\n",
            "20/24 [========================>.....] - ETA: 0s - loss: 6.1460e-05\n",
            "Epoch 8: val_loss did not improve from 0.00006\n",
            "24/24 [==============================] - 0s 9ms/step - loss: 5.9935e-05 - val_loss: 6.0263e-05\n",
            "Epoch 9/100\n",
            "21/24 [=========================>....] - ETA: 0s - loss: 5.9885e-05\n",
            "Epoch 9: val_loss did not improve from 0.00006\n",
            "24/24 [==============================] - 0s 10ms/step - loss: 5.7662e-05 - val_loss: 6.4140e-05\n",
            "Epoch 10/100\n",
            "22/24 [==========================>...] - ETA: 0s - loss: 5.9703e-05\n",
            "Epoch 10: val_loss improved from 0.00006 to 0.00006, saving model to model/tmp_checkpoint.h5\n",
            "24/24 [==============================] - 0s 10ms/step - loss: 5.9218e-05 - val_loss: 5.7285e-05\n",
            "Epoch 11/100\n",
            "23/24 [===========================>..] - ETA: 0s - loss: 5.5076e-05\n",
            "Epoch 11: val_loss did not improve from 0.00006\n",
            "24/24 [==============================] - 0s 10ms/step - loss: 5.5482e-05 - val_loss: 6.5062e-05\n",
            "Epoch 12/100\n",
            "22/24 [==========================>...] - ETA: 0s - loss: 5.8168e-05\n",
            "Epoch 12: val_loss improved from 0.00006 to 0.00006, saving model to model/tmp_checkpoint.h5\n",
            "24/24 [==============================] - 0s 10ms/step - loss: 5.8017e-05 - val_loss: 5.6241e-05\n",
            "Epoch 13/100\n",
            "20/24 [========================>.....] - ETA: 0s - loss: 5.9810e-05\n",
            "Epoch 13: val_loss did not improve from 0.00006\n",
            "24/24 [==============================] - 0s 10ms/step - loss: 5.8924e-05 - val_loss: 5.7529e-05\n",
            "Epoch 14/100\n",
            "21/24 [=========================>....] - ETA: 0s - loss: 5.7651e-05\n",
            "Epoch 14: val_loss did not improve from 0.00006\n",
            "24/24 [==============================] - 0s 10ms/step - loss: 5.5950e-05 - val_loss: 6.2365e-05\n",
            "Epoch 15/100\n",
            "22/24 [==========================>...] - ETA: 0s - loss: 5.6431e-05\n",
            "Epoch 15: val_loss did not improve from 0.00006\n",
            "24/24 [==============================] - 0s 11ms/step - loss: 5.6238e-05 - val_loss: 6.0268e-05\n",
            "Epoch 16/100\n",
            "21/24 [=========================>....] - ETA: 0s - loss: 5.4968e-05\n",
            "Epoch 16: val_loss did not improve from 0.00006\n",
            "24/24 [==============================] - 0s 10ms/step - loss: 5.6461e-05 - val_loss: 6.3424e-05\n",
            "Epoch 17/100\n",
            "21/24 [=========================>....] - ETA: 0s - loss: 5.6287e-05\n",
            "Epoch 17: val_loss did not improve from 0.00006\n",
            "24/24 [==============================] - 0s 9ms/step - loss: 5.6427e-05 - val_loss: 6.1139e-05\n"
          ]
        }
      ]
    },
    {
      "cell_type": "code",
      "source": [
        "print(test_feature.shape)"
      ],
      "metadata": {
        "colab": {
          "base_uri": "https://localhost:8080/"
        },
        "id": "wP2TVrYt2Ihe",
        "outputId": "fa9d7d2c-75c2-40f1-c7b6-77864e1cfba0"
      },
      "execution_count": 40,
      "outputs": [
        {
          "output_type": "stream",
          "name": "stdout",
          "text": [
            "(2180, 20, 4)\n"
          ]
        }
      ]
    },
    {
      "cell_type": "markdown",
      "source": [
        "주가 예측\n",
        "predict()를 활용하여 모형을 예측한다."
      ],
      "metadata": {
        "id": "2vF2Tt8XxWZi"
      }
    },
    {
      "cell_type": "code",
      "source": [
        "# model.load_weights(filename)\n",
        "pred = model.predict(test_feature)\n",
        "\n",
        "pred.shape"
      ],
      "metadata": {
        "colab": {
          "base_uri": "https://localhost:8080/"
        },
        "id": "ZKCt7kXsxZi7",
        "outputId": "613aa602-32f1-45b1-ee96-4566346b08e8"
      },
      "execution_count": 41,
      "outputs": [
        {
          "output_type": "stream",
          "name": "stdout",
          "text": [
            "69/69 [==============================] - 0s 3ms/step\n"
          ]
        },
        {
          "output_type": "execute_result",
          "data": {
            "text/plain": [
              "(2180, 1)"
            ]
          },
          "metadata": {},
          "execution_count": 41
        }
      ]
    },
    {
      "cell_type": "code",
      "source": [
        "plt.figure(figsize=(12, 9))\n",
        "plt.plot(test_label, label = 'actual')\n",
        "plt.plot(pred, label = 'prediction')\n",
        "plt.title('Samsung Electronics')\n",
        "\n",
        "plt.legend()\n",
        "plt.show()"
      ],
      "metadata": {
        "colab": {
          "base_uri": "https://localhost:8080/",
          "height": 533
        },
        "id": "4C4x0HHWxdaM",
        "outputId": "8d3e9268-67ac-4c92-91f5-3b1697178b26"
      },
      "execution_count": 43,
      "outputs": [
        {
          "output_type": "display_data",
          "data": {
            "text/plain": [
              "<Figure size 864x648 with 1 Axes>"
            ],
            "image/png": "[encoded data removed]"
          },
          "metadata": {
            "needs_background": "light"
          }
        }
      ]
    }
  ]
}