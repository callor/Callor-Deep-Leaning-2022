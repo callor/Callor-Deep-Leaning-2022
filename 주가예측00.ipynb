{
  "nbformat": 4,
  "nbformat_minor": 0,
  "metadata": {
    "colab": {
      "provenance": [],
      "authorship_tag": "ABX9TyNM3gUH1thP93lprwSjMfSn",
      "include_colab_link": true
    },
    "kernelspec": {
      "name": "python3",
      "display_name": "Python 3"
    },
    "language_info": {
      "name": "python"
    },
    "accelerator": "GPU",
    "gpuClass": "standard"
  },
  "cells": [
    {
      "cell_type": "markdown",
      "metadata": {
        "id": "view-in-github",
        "colab_type": "text"
      },
      "source": [
        "<a href=\"https://colab.research.google.com/github/callor/Callor-Deep-Leaning-2022/blob/master/%EC%A3%BC%EA%B0%80%EC%98%88%EC%B8%A1.ipynb\" target=\"_parent\"><img src=\"https://colab.research.google.com/assets/colab-badge.svg\" alt=\"Open In Colab\"/></a>"
      ]
    },
    {
      "cell_type": "code",
      "execution_count": 2,
      "metadata": {
        "id": "_uDkbsqJPLUL"
      },
      "outputs": [],
      "source": [
        "#import packages\n",
        "import pandas as pd\n",
        "import numpy as np"
      ]
    },
    {
      "cell_type": "code",
      "source": [
        "#to plot within notebook\n",
        "import matplotlib.pyplot as plt\n",
        "%matplotlib inline"
      ],
      "metadata": {
        "id": "5K0aEpkIPVVB"
      },
      "execution_count": 3,
      "outputs": []
    },
    {
      "cell_type": "code",
      "source": [
        "#setting figure size\n",
        "from matplotlib.pylab import rcParams\n",
        "# 차트의 기본 크기를 설정합니다. \n",
        "rcParams['figure.figsize'] = 8,4 #그림(figure)의 크기. (가로,세로) 인치 단위\n",
        "\n",
        "#for normalizing data\n",
        "from sklearn.preprocessing import MinMaxScaler\n",
        "scaler = MinMaxScaler(feature_range=(0, 1))"
      ],
      "metadata": {
        "id": "is2rpgu7Pe2M"
      },
      "execution_count": 4,
      "outputs": []
    },
    {
      "cell_type": "code",
      "source": [
        "#read the file\n",
        "# https://s3-ap-south-1.amazonaws.com/av-blog-media/wp-content/uploads/2019/03/NSE-TATAGLOBAL11.csv 에서 다운로드드\n",
        "df = pd.read_csv('NSE-TATAGLOBAL11.csv')\n",
        "#print the head\n",
        "print(df.head())"
      ],
      "metadata": {
        "colab": {
          "base_uri": "https://localhost:8080/"
        },
        "id": "OKh7fCoaP2qW",
        "outputId": "0a150b40-a2ff-40be-f447-8b30715aabb9"
      },
      "execution_count": 8,
      "outputs": [
        {
          "output_type": "stream",
          "name": "stdout",
          "text": [
            "         Date    Open    High     Low    Last   Close  Total Trade Quantity  \\\n",
            "0  2018-10-08  208.00  222.25  206.85  216.00  215.15             4642146.0   \n",
            "1  2018-10-05  217.00  218.60  205.90  210.25  209.20             3519515.0   \n",
            "2  2018-10-04  223.50  227.80  216.15  217.25  218.20             1728786.0   \n",
            "3  2018-10-03  230.00  237.50  225.75  226.45  227.60             1708590.0   \n",
            "4  2018-10-01  234.55  234.60  221.05  230.30  230.90             1534749.0   \n",
            "\n",
            "   Turnover (Lacs)  \n",
            "0         10062.83  \n",
            "1          7407.06  \n",
            "2          3815.79  \n",
            "3          3960.27  \n",
            "4          3486.05  \n"
          ]
        }
      ]
    },
    {
      "cell_type": "code",
      "source": [
        "#importing required libraries\n",
        "from sklearn.preprocessing import MinMaxScaler\n",
        "from keras.models import Sequential\n",
        "from keras.layers import Dense, Dropout, LSTM\n",
        "\n",
        "#creating dataframe\n",
        "# index를 sort함 sort 의미는 없음 \n",
        "data = df.sort_index(ascending=True, axis=0)\n",
        "print(data.head())"
      ],
      "metadata": {
        "colab": {
          "base_uri": "https://localhost:8080/"
        },
        "id": "USylJX4KQJ6b",
        "outputId": "e90d4971-60d0-4662-8b54-b73a8914a5cc"
      },
      "execution_count": 9,
      "outputs": [
        {
          "output_type": "stream",
          "name": "stdout",
          "text": [
            "         Date    Open    High     Low    Last   Close  Total Trade Quantity  \\\n",
            "0  2018-10-08  208.00  222.25  206.85  216.00  215.15             4642146.0   \n",
            "1  2018-10-05  217.00  218.60  205.90  210.25  209.20             3519515.0   \n",
            "2  2018-10-04  223.50  227.80  216.15  217.25  218.20             1728786.0   \n",
            "3  2018-10-03  230.00  237.50  225.75  226.45  227.60             1708590.0   \n",
            "4  2018-10-01  234.55  234.60  221.05  230.30  230.90             1534749.0   \n",
            "\n",
            "   Turnover (Lacs)  \n",
            "0         10062.83  \n",
            "1          7407.06  \n",
            "2          3815.79  \n",
            "3          3960.27  \n",
            "4          3486.05  \n"
          ]
        }
      ]
    },
    {
      "cell_type": "code",
      "source": [
        "#setting index\n",
        "#Date 칼럼을 index 로 설정\n",
        "data.index = data.Date\n",
        "\n",
        "#그러면 date는 필요없어지니 삭제합니다\n",
        "data.drop('Date', axis=1, inplace=True)\n",
        "\n",
        "# numpy로 변환합니다. 1차원인 Close만 남습니다\n",
        "dataset = data.values\n",
        "\n",
        "train = dataset[0:987,:]\n",
        "valid = dataset[987:,:]\n",
        "# 각각 아래 데이터가 생성 되었습니다.\n",
        "#(987, 1)\n",
        "#(248, 1)\n",
        "print(train.shape)\n",
        "print(valid.shape)\n"
      ],
      "metadata": {
        "colab": {
          "base_uri": "https://localhost:8080/"
        },
        "id": "qKUorJKpQdPa",
        "outputId": "ac184495-9c19-4286-faf0-57906b0c655b"
      },
      "execution_count": 10,
      "outputs": [
        {
          "output_type": "stream",
          "name": "stdout",
          "text": [
            "(987, 7)\n",
            "(248, 7)\n"
          ]
        }
      ]
    },
    {
      "cell_type": "code",
      "source": [
        "# converting dataset into x_train and y_train\n",
        "#값을 0 ~ 1 사이의 값으로 변환 합니다\n",
        "scaler = MinMaxScaler(feature_range=(0, 1))\n",
        "scaled_data = scaler.fit_transform(dataset)\n",
        "\n",
        "x_train, y_train = [], []\n",
        "for i in range(60,len(train)):\n",
        "    x_train.append(scaled_data[i-60:i,0])\n",
        "    y_train.append(scaled_data[i,0])\n",
        "\n",
        "# x_train [0:60]=>0:59까지데이터 y_train [60]\n",
        "x_train, y_train = np.array(x_train), np.array(y_train)\n",
        "#(927, 60) (927,)\n",
        "# x_train 60깨 input으로 가지는 데이터가 927개 들어있다.\n",
        "print(x_train.shape,y_train.shape)\n",
        "print(x_train)    "
      ],
      "metadata": {
        "colab": {
          "base_uri": "https://localhost:8080/"
        },
        "id": "T6n1OLBpSua4",
        "outputId": "3ddaf510-c95b-429a-a37a-2c8a976cd2c2"
      },
      "execution_count": 11,
      "outputs": [
        {
          "output_type": "stream",
          "name": "stdout",
          "text": [
            "(927, 60) (927,)\n",
            "[[0.46728972 0.50734312 0.53627058 ... 0.74499332 0.76457499 0.7694704 ]\n",
            " [0.50734312 0.53627058 0.56519804 ... 0.76457499 0.7694704  0.73542501]\n",
            " [0.53627058 0.56519804 0.58544726 ... 0.7694704  0.73542501 0.7423231 ]\n",
            " ...\n",
            " [0.24276814 0.23742768 0.22919448 ... 0.229417   0.22140632 0.23609257]\n",
            " [0.23742768 0.22919448 0.20872274 ... 0.22140632 0.23609257 0.24655096]\n",
            " [0.22919448 0.20872274 0.19670672 ... 0.23609257 0.24655096 0.25189141]]\n"
          ]
        }
      ]
    },
    {
      "cell_type": "code",
      "source": [
        "# 입력 format에 맞게 변환 합니다.\n",
        "x_train = np.reshape(x_train, (x_train.shape[0],x_train.shape[1],1))\n",
        "print(\"input_shape\")\n",
        "print(x_train.shape,y_train.shape)\n",
        "print(x_train)"
      ],
      "metadata": {
        "colab": {
          "base_uri": "https://localhost:8080/"
        },
        "id": "DLiIA8KNTA7r",
        "outputId": "74624fe1-107a-413b-df84-c06e86542f0a"
      },
      "execution_count": 12,
      "outputs": [
        {
          "output_type": "stream",
          "name": "stdout",
          "text": [
            "input_shape\n",
            "(927, 60, 1) (927,)\n",
            "[[[0.46728972]\n",
            "  [0.50734312]\n",
            "  [0.53627058]\n",
            "  ...\n",
            "  [0.74499332]\n",
            "  [0.76457499]\n",
            "  [0.7694704 ]]\n",
            "\n",
            " [[0.50734312]\n",
            "  [0.53627058]\n",
            "  [0.56519804]\n",
            "  ...\n",
            "  [0.76457499]\n",
            "  [0.7694704 ]\n",
            "  [0.73542501]]\n",
            "\n",
            " [[0.53627058]\n",
            "  [0.56519804]\n",
            "  [0.58544726]\n",
            "  ...\n",
            "  [0.7694704 ]\n",
            "  [0.73542501]\n",
            "  [0.7423231 ]]\n",
            "\n",
            " ...\n",
            "\n",
            " [[0.24276814]\n",
            "  [0.23742768]\n",
            "  [0.22919448]\n",
            "  ...\n",
            "  [0.229417  ]\n",
            "  [0.22140632]\n",
            "  [0.23609257]]\n",
            "\n",
            " [[0.23742768]\n",
            "  [0.22919448]\n",
            "  [0.20872274]\n",
            "  ...\n",
            "  [0.22140632]\n",
            "  [0.23609257]\n",
            "  [0.24655096]]\n",
            "\n",
            " [[0.22919448]\n",
            "  [0.20872274]\n",
            "  [0.19670672]\n",
            "  ...\n",
            "  [0.23609257]\n",
            "  [0.24655096]\n",
            "  [0.25189141]]]\n"
          ]
        }
      ]
    },
    {
      "cell_type": "code",
      "source": [
        "# create and fit the LSTM network\n",
        "model = Sequential()\n",
        "# x_train.shape[1] 이것은 timestep이 된다\n",
        "model.add(LSTM(units=50, return_sequences=True, input_shape=(x_train.shape[1],1)))\n",
        "model.add(LSTM(units=50))\n",
        "model.add(Dense(1))\n",
        "model.compile(loss='mean_squared_error', optimizer='adam')\n",
        "model.fit(x_train, y_train, epochs=1, batch_size=1, verbose=2)\n"
      ],
      "metadata": {
        "colab": {
          "base_uri": "https://localhost:8080/"
        },
        "id": "K-p1MxJkTFY9",
        "outputId": "abd8054b-a5af-439c-8cbe-bf8615d8ba58"
      },
      "execution_count": 13,
      "outputs": [
        {
          "output_type": "stream",
          "name": "stdout",
          "text": [
            "927/927 - 12s - loss: 0.0033 - 12s/epoch - 13ms/step\n"
          ]
        },
        {
          "output_type": "execute_result",
          "data": {
            "text/plain": [
              "<keras.callbacks.History at 0x7fc68211b280>"
            ]
          },
          "metadata": {},
          "execution_count": 13
        }
      ]
    },
    {
      "cell_type": "code",
      "source": [
        "# 입력 데이터중 마지막 데이터를 가지고 valid 데이터를 만듭니다.\n",
        "#predicting 246 values, using past 60 from the train data\n",
        "inputs = data[len(data) - len(valid) - 60:].values\n",
        "inputs = inputs.reshape(-1,1)\n",
        "inputs  = scaler.transform(inputs)"
      ],
      "metadata": {
        "id": "FOeJgd0BTSAJ"
      },
      "execution_count": null,
      "outputs": []
    },
    {
      "cell_type": "code",
      "source": [
        "X_test = []\n",
        "for i in range(60,inputs.shape[0]):\n",
        "    X_test.append(inputs[i-60:i,0])\n",
        "X_test = np.array(X_test)\n",
        "\n",
        "X_test = np.reshape(X_test, (X_test.shape[0],X_test.shape[1],1))"
      ],
      "metadata": {
        "id": "71S4h7lTXSPk"
      },
      "execution_count": 15,
      "outputs": []
    },
    {
      "cell_type": "code",
      "source": [
        "closing_price = model.predict(X_test)\n",
        "print(closing_price.shape)\n",
        "closing_price = scaler.inverse_transform(closing_price)"
      ],
      "metadata": {
        "id": "6RjNBQTQXbsg"
      },
      "execution_count": null,
      "outputs": []
    },
    {
      "cell_type": "code",
      "source": [
        "rms=np.sqrt(np.mean(np.power((valid-closing_price),2)))\n",
        "print(rms)"
      ],
      "metadata": {
        "id": "toYuaMV_XjK9"
      },
      "execution_count": null,
      "outputs": []
    },
    {
      "cell_type": "code",
      "source": [
        "#for plotting\n",
        "train = new_data[:987]\n",
        "valid = new_data[987:]\n",
        "valid['Predictions'] = closing_price\n",
        "plt.plot(train['Close'])\n",
        "plt.plot(valid[['Close','Predictions']])\n",
        "plt.show()"
      ],
      "metadata": {
        "id": "2nyrqD-9Xm9I"
      },
      "execution_count": null,
      "outputs": []
    }
  ]
}
